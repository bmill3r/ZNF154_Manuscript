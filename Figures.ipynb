{
 "cells": [
  {
   "cell_type": "code",
   "execution_count": 1,
   "metadata": {
    "ExecuteTime": {
     "end_time": "2020-04-30T18:56:33.318644Z",
     "start_time": "2020-04-30T18:56:29.967694Z"
    }
   },
   "outputs": [],
   "source": [
    "import sys\n",
    "import pandas as pd\n",
    "import numpy as np\n",
    "import os\n",
    "import itertools\n",
    "import scipy.stats as stats\n",
    "from sklearn.metrics import roc_curve, auc\n",
    "\n",
    "import matplotlib as mpl\n",
    "from matplotlib.pyplot import cm\n",
    "from matplotlib import pyplot as plt\n",
    "font = {'family': 'arial',\n",
    "        'size': 14}\n",
    "mpl.rc('font', **font)\n",
    "\n",
    "%matplotlib inline"
   ]
  },
  {
   "cell_type": "markdown",
   "metadata": {
    "heading_collapsed": true
   },
   "source": [
    "# General Functions and Classess"
   ]
  },
  {
   "cell_type": "code",
   "execution_count": 2,
   "metadata": {
    "ExecuteTime": {
     "end_time": "2020-04-30T18:56:33.329091Z",
     "start_time": "2020-04-30T18:56:33.321354Z"
    },
    "hidden": true
   },
   "outputs": [],
   "source": [
    "def lighten_color(color, amount=0.3):\n",
    "        \"\"\"\n",
    "        Lightens the given color by multiplying (1-luminosity) by the given amount.\n",
    "        Input can be matplotlib color string, hex string, or RGB tuple.\n",
    "\n",
    "        Examples:\n",
    "        >> lighten_color('g', 0.3)\n",
    "        >> lighten_color('#F034A3', 0.6)\n",
    "        >> lighten_color((.3,.55,.1), 0.5)\n",
    "        \"\"\"\n",
    "        import matplotlib.colors as mc\n",
    "        import colorsys\n",
    "        try:\n",
    "            c = mc.cnames[color]\n",
    "        except:\n",
    "            c = color\n",
    "        c = colorsys.rgb_to_hls(*mc.to_rgb(c))\n",
    "        return colorsys.hls_to_rgb(c[0], 1 - amount * (1 - c[1]), c[2])"
   ]
  },
  {
   "cell_type": "code",
   "execution_count": 3,
   "metadata": {
    "ExecuteTime": {
     "end_time": "2020-04-30T18:56:33.337880Z",
     "start_time": "2020-04-30T18:56:33.332827Z"
    },
    "hidden": true
   },
   "outputs": [],
   "source": [
    "def ranksum(caseVals, controlVals):\n",
    "\n",
    "    s, p = stats.ranksums(caseVals, controlVals)\n",
    "    return p"
   ]
  },
  {
   "cell_type": "code",
   "execution_count": 4,
   "metadata": {
    "ExecuteTime": {
     "end_time": "2020-04-30T18:56:33.369090Z",
     "start_time": "2020-04-30T18:56:33.341103Z"
    },
    "hidden": true
   },
   "outputs": [],
   "source": [
    "class rocplot():\n",
    "    '''\n",
    "    Dataframe should have two columns, one contaning values for cases and other for controls.\n",
    "    '''\n",
    "\n",
    "    def __init__(self, df, cases=None, controls=None):\n",
    "\n",
    "        import pandas as pd\n",
    "        import numpy as np\n",
    "        from sklearn.metrics import roc_curve\n",
    "\n",
    "        # select cases/ctrl vals based on order in df (0,1) or columns labels if strings\n",
    "        if cases != None:\n",
    "            self.caseVals = df[cases].dropna().tolist()\n",
    "        else:\n",
    "            self.caseVals = df.iloc[:, 0].dropna().tolist()\n",
    "        if controls != None:\n",
    "            self.controlVals = df[controls].dropna().tolist()\n",
    "        else:\n",
    "            self.controlVals = df.iloc[:, 1].dropna().tolist()\n",
    "\n",
    "        self.values = self.caseVals + self.controlVals\n",
    "        self.labels = [1 for i in self.caseVals] + \\\n",
    "            [0 for i in self.controlVals]\n",
    "        self.fpr, self.tpr, self.thresholds = roc_curve(\n",
    "            self.labels, self.values)\n",
    "\n",
    "        optimal_idx = np.argmax(self.tpr - self.fpr)\n",
    "        self.optimal_threshold = self.thresholds[optimal_idx]\n",
    "        self.sensitivity = self.tpr[optimal_idx]\n",
    "        self.specificity = 1 - self.fpr[optimal_idx]\n",
    "\n",
    "    @property\n",
    "    def AUC(self):\n",
    "\n",
    "        roc_auc = auc(self.fpr, self.tpr)\n",
    "        return roc_auc\n",
    "\n",
    "    def plot(self):\n",
    "\n",
    "        lw = 2\n",
    "\n",
    "        plt.plot(self.fpr, self.tpr, color='red', lw=lw,\n",
    "                 label='AUC = %0.2f' % self.AUC)\n",
    "\n",
    "        plt.plot([0, 1], [0, 1], color='k', lw=lw, linestyle='--')\n",
    "        plt.xlim([0.0, 1.00])\n",
    "        plt.ylim([0.0, 1.00])\n",
    "        plt.xlabel('FPR', fontsize=26)\n",
    "        plt.ylabel('TPR', fontsize=26)\n",
    "        plt.xticks(np.arange(0, 1.1, .2), [str(round(i, 2))\n",
    "                                           for i in np.arange(0, 1.1, .2)], fontsize=20)\n",
    "        plt.yticks(np.arange(0, 1.1, .2), [str(round(i, 2))\n",
    "                                           for i in np.arange(0, 1.1, .2)], fontsize=20)\n",
    "#         plt.legend(loc=\"lower right\", fontsize=12, edgecolor='k')\n",
    "\n",
    "        return plt"
   ]
  },
  {
   "cell_type": "markdown",
   "metadata": {
    "heading_collapsed": true
   },
   "source": [
    "# Figure 1 - Mutation vs Hypermethylation Frequencies"
   ]
  },
  {
   "cell_type": "markdown",
   "metadata": {
    "heading_collapsed": true,
    "hidden": true
   },
   "source": [
    "## Paths to Data"
   ]
  },
  {
   "cell_type": "code",
   "execution_count": 5,
   "metadata": {
    "ExecuteTime": {
     "end_time": "2020-04-30T18:56:33.380394Z",
     "start_time": "2020-04-30T18:56:33.373261Z"
    },
    "hidden": true
   },
   "outputs": [],
   "source": [
    "mutationFiles = 'mutationFreqs/'\n",
    "\n",
    "sampleFileCallID = {'KIRC': 'Raw_Calls',\n",
    "                    'BLCA': 'Calls',\n",
    "                    'STAD': 'Raw_Calls',\n",
    "                    'HNSC': 'Raw_Calls',\n",
    "                    'PRAD': 'Raw_Calls',\n",
    "                    'KIRP': 'Raw_Calls',\n",
    "                    'LIHC': 'Raw_Calls',\n",
    "                    'LUAD': 'Calls',\n",
    "                    'PAAD': 'Calls',\n",
    "                    'BRCA': 'Calls',\n",
    "                    'OV': 'Calls'}\n",
    "\n",
    "methylationArrayPath = 'methylationArrayData/'"
   ]
  },
  {
   "cell_type": "markdown",
   "metadata": {
    "heading_collapsed": true,
    "hidden": true
   },
   "source": [
    "## Functions"
   ]
  },
  {
   "cell_type": "markdown",
   "metadata": {
    "hidden": true
   },
   "source": [
    "### ```sampleMutationFreqTable```"
   ]
  },
  {
   "cell_type": "code",
   "execution_count": 6,
   "metadata": {
    "ExecuteTime": {
     "end_time": "2020-04-30T18:56:33.399177Z",
     "start_time": "2020-04-30T18:56:33.383327Z"
    },
    "hidden": true
   },
   "outputs": [],
   "source": [
    "def sampleMutationFreqTable(cancerGenes, sampleMutationFiles, sampleFilesFolder):\n",
    "    \n",
    "    '''\n",
    "    Return table where each row is sample and each column is cancer associated gene.\n",
    "    Each cell is mutation call for that gene for given sample.\n",
    "    NaN if sample does not have mutation of given type in that gene.\n",
    "    '''\n",
    "    \n",
    "    genes = cancerGenes.values\n",
    "    sampleMutTable = pd.DataFrame(columns=genes)\n",
    "    \n",
    "    # positions of genes in rows:\n",
    "    genePosDict = {}\n",
    "    for pos, gene in enumerate(genes):\n",
    "        genePosDict[gene] = pos\n",
    "    \n",
    "    # for each sample file, load into to DF, get sample barcode, and check mutation status for given genes\n",
    "    for f in sampleMutationFiles:\n",
    "        if 'TCGA' in f:\n",
    "            path = sampleFilesFolder + f\n",
    "            # replace '-' with '.' to match up with methylation table\n",
    "            sample = \".\".join(f.split('.maf.txt')[0].split('-'))\n",
    "            # get slice of table for top genes and get mutation status\n",
    "            table = pd.read_table(path, engine='python')\n",
    "\n",
    "            sample_mutation_status = [np.nan]*len(genes) # list of nans to be filled with mutation status for sample\n",
    "            for gene in genes:\n",
    "                idx = genePosDict[gene]\n",
    "                \n",
    "                # check if mutations in gene for sample are not silent and are SNPs:\n",
    "                table_slice = table[table['Hugo_Symbol'] == gene][[\n",
    "                    'Variant_Classification', 'Variant_Type']]\n",
    "                check_mut_type = table_slice[(table_slice['Variant_Classification'] != 'Silent') & (\n",
    "                    table_slice['Variant_Type'] == 'SNP')]\n",
    "                \n",
    "                # append mutation status of gene for given sample to sample_mutation_status\n",
    "                if len(check_mut_type) > 0:\n",
    "                    sample_mutation_status[idx] = 'SNP'\n",
    "                else:\n",
    "                    continue\n",
    "            \n",
    "            # append sample as row with mutation statuses\n",
    "            sampleMutTable.loc[sample] = sample_mutation_status\n",
    "            \n",
    "    return sampleMutTable"
   ]
  },
  {
   "cell_type": "markdown",
   "metadata": {
    "hidden": true
   },
   "source": [
    "### ```summaryTable```"
   ]
  },
  {
   "cell_type": "code",
   "execution_count": 7,
   "metadata": {
    "ExecuteTime": {
     "end_time": "2020-04-30T18:56:33.422450Z",
     "start_time": "2020-04-30T18:56:33.406001Z"
    },
    "hidden": true
   },
   "outputs": [],
   "source": [
    "def summaryTable(mutTableWithMeth, controlsBetaValues, cancerGenes):\n",
    "\n",
    "    summary = {}\n",
    "\n",
    "    totTumors = float(len(mutTableWithMeth))\n",
    "    totControls = float(len(controlsBetaValues))\n",
    "    betaCutoff = np.percentile(controlsBetaValues, 95)\n",
    "    \n",
    "    # ---------------------------------------------------------\n",
    "    # counts of tumors with different numbers of mutations:\n",
    "    # counters\n",
    "    none = 0\n",
    "#     both = 0\n",
    "#     All = 0\n",
    "#     _2mutations = 0\n",
    "#     _3orMore = 0\n",
    "    Any = 0\n",
    "\n",
    "    tumorsWithMeth = mutTableWithMeth.iloc[:, :-1]\n",
    "\n",
    "    for index, row in tumorsWithMeth.iterrows():\n",
    "        if row.count() == 0:\n",
    "            none += 1\n",
    "            \n",
    "#         elif row.count() == 1:\n",
    "#             Any += 1\n",
    "#         elif row.count() == 2 and len(cancerGenes.values) == 2:\n",
    "#             both += 1\n",
    "#             Any += 1\n",
    "#         elif row.count() == len(cancerGenes.values):\n",
    "#             Any += 1\n",
    "#             All += 1\n",
    "#         elif row.count() == 2 and len(cancerGenes.values) > 2:\n",
    "#             _2mutations += 1\n",
    "#             Any += 1\n",
    "#         elif row.count() > 2 and row.count() < len(cancerGenes.values):\n",
    "#             _3orMore += 1\n",
    "#             Any += 1\n",
    "        \n",
    "        elif row.count() >= 1:\n",
    "            Any += 1\n",
    "        \n",
    "        else:\n",
    "            pass\n",
    "    # ---------------------------------------------------------\n",
    "\n",
    "    summary['total tumors'] = totTumors\n",
    "    summary['total controls'] = totControls\n",
    "    summary['beta cutoff'] = betaCutoff\n",
    "    summary['cg21790626 hypermethylation frequency'] = round(\n",
    "        (len(mutTableWithMeth[mutTableWithMeth.iloc[:, -1] > betaCutoff])/totTumors) * 100, 1)\n",
    "    \n",
    "    for gene in cancerGenes.values:\n",
    "        summary[gene] = round(\n",
    "            (len(mutTableWithMeth[gene].dropna())/totTumors) * 100, 1)\n",
    "    \n",
    "    summary['Any'] = round((Any/totTumors) * 100, 1)\n",
    "    \n",
    "    return(summary)"
   ]
  },
  {
   "cell_type": "markdown",
   "metadata": {
    "hidden": true
   },
   "source": [
    "### Plot Function ```mutationVShypermethylation```"
   ]
  },
  {
   "cell_type": "code",
   "execution_count": 8,
   "metadata": {
    "ExecuteTime": {
     "end_time": "2020-04-30T18:56:33.450112Z",
     "start_time": "2020-04-30T18:56:33.427005Z"
    },
    "hidden": true
   },
   "outputs": [],
   "source": [
    "def mutationVShypermethylation(allCancerTypes):\n",
    "\n",
    "    fig, ax = plt.subplots(figsize=(8, 6))\n",
    "\n",
    "    colors = iter(cm.hsv(np.linspace(0, 1, allCancerTypes.shape[0])))\n",
    "    colors\n",
    "\n",
    "    for idx, row in allCancerTypes.iterrows():\n",
    "        ax.scatter(float(row['% mutated'] / 100.0), float(row['% hypermethylated'] / 100.0),\n",
    "                   c=np.array([next(colors)]), s=100, label=idx)\n",
    "\n",
    "    ax.set_xticks(np.arange(0, 1.1, 0.2))\n",
    "    ax.set_xticklabels([str(int(i*100)) + \"%\"\n",
    "                        for i in np.arange(0, 1.1, 0.2)], fontsize=22)\n",
    "\n",
    "    ax.set_yticks(np.arange(0, 1.1, 0.2))\n",
    "    ax.set_yticklabels([str(int(i*100)) + \"%\"\n",
    "                        for i in np.arange(0, 1.1, 0.2)], fontsize=22)\n",
    "\n",
    "    plt.legend(bbox_to_anchor=(1.01, 1.03),\n",
    "               loc='upper left', fontsize=20, edgecolor='k')\n",
    "\n",
    "    plt.grid()\n",
    "\n",
    "    plt.plot([0, 1], [0, 1], color='k', linestyle='--')\n",
    "\n",
    "    plt.xlim([0, 1])\n",
    "    plt.ylim([0, 1])\n",
    "\n",
    "    plt.ylabel('% tumors hypermethylated\\n(cg21790626)')\n",
    "    plt.xlabel('% tumors with mutation in\\n cancer gene set*')\n",
    "    \n",
    "    return plt"
   ]
  },
  {
   "cell_type": "markdown",
   "metadata": {
    "heading_collapsed": true,
    "hidden": true
   },
   "source": [
    "## Analysis"
   ]
  },
  {
   "cell_type": "code",
   "execution_count": 9,
   "metadata": {
    "ExecuteTime": {
     "end_time": "2020-04-30T19:00:47.537249Z",
     "start_time": "2020-04-30T18:56:33.453244Z"
    },
    "hidden": true
   },
   "outputs": [
    {
     "data": {
      "text/html": [
       "<div>\n",
       "<style scoped>\n",
       "    .dataframe tbody tr th:only-of-type {\n",
       "        vertical-align: middle;\n",
       "    }\n",
       "\n",
       "    .dataframe tbody tr th {\n",
       "        vertical-align: top;\n",
       "    }\n",
       "\n",
       "    .dataframe thead th {\n",
       "        text-align: right;\n",
       "    }\n",
       "</style>\n",
       "<table border=\"1\" class=\"dataframe\">\n",
       "  <thead>\n",
       "    <tr style=\"text-align: right;\">\n",
       "      <th></th>\n",
       "      <th>Tumors</th>\n",
       "      <th>Controls</th>\n",
       "      <th>beta cutoff</th>\n",
       "      <th>% hypermethylated</th>\n",
       "      <th>% mutated</th>\n",
       "    </tr>\n",
       "  </thead>\n",
       "  <tbody>\n",
       "    <tr>\n",
       "      <td>KIRC</td>\n",
       "      <td>263.0</td>\n",
       "      <td>160.0</td>\n",
       "      <td>0.016482</td>\n",
       "      <td>75.3</td>\n",
       "      <td>52.9</td>\n",
       "    </tr>\n",
       "    <tr>\n",
       "      <td>BLCA</td>\n",
       "      <td>130.0</td>\n",
       "      <td>21.0</td>\n",
       "      <td>0.316176</td>\n",
       "      <td>94.6</td>\n",
       "      <td>63.8</td>\n",
       "    </tr>\n",
       "    <tr>\n",
       "      <td>STAD</td>\n",
       "      <td>349.0</td>\n",
       "      <td>2.0</td>\n",
       "      <td>0.161044</td>\n",
       "      <td>96.6</td>\n",
       "      <td>82.5</td>\n",
       "    </tr>\n",
       "    <tr>\n",
       "      <td>HNSC</td>\n",
       "      <td>510.0</td>\n",
       "      <td>50.0</td>\n",
       "      <td>0.180760</td>\n",
       "      <td>98.6</td>\n",
       "      <td>85.3</td>\n",
       "    </tr>\n",
       "    <tr>\n",
       "      <td>PRAD</td>\n",
       "      <td>498.0</td>\n",
       "      <td>50.0</td>\n",
       "      <td>0.523035</td>\n",
       "      <td>52.0</td>\n",
       "      <td>20.5</td>\n",
       "    </tr>\n",
       "    <tr>\n",
       "      <td>KIRP</td>\n",
       "      <td>267.0</td>\n",
       "      <td>45.0</td>\n",
       "      <td>0.024678</td>\n",
       "      <td>50.6</td>\n",
       "      <td>7.5</td>\n",
       "    </tr>\n",
       "    <tr>\n",
       "      <td>LIHC</td>\n",
       "      <td>373.0</td>\n",
       "      <td>50.0</td>\n",
       "      <td>0.057879</td>\n",
       "      <td>90.1</td>\n",
       "      <td>46.9</td>\n",
       "    </tr>\n",
       "    <tr>\n",
       "      <td>LUAD</td>\n",
       "      <td>185.0</td>\n",
       "      <td>32.0</td>\n",
       "      <td>0.071018</td>\n",
       "      <td>75.7</td>\n",
       "      <td>85.4</td>\n",
       "    </tr>\n",
       "    <tr>\n",
       "      <td>PAAD</td>\n",
       "      <td>150.0</td>\n",
       "      <td>10.0</td>\n",
       "      <td>0.069513</td>\n",
       "      <td>90.7</td>\n",
       "      <td>95.3</td>\n",
       "    </tr>\n",
       "    <tr>\n",
       "      <td>BRCA</td>\n",
       "      <td>664.0</td>\n",
       "      <td>97.0</td>\n",
       "      <td>0.189592</td>\n",
       "      <td>74.4</td>\n",
       "      <td>54.2</td>\n",
       "    </tr>\n",
       "    <tr>\n",
       "      <td>OV</td>\n",
       "      <td>302.0</td>\n",
       "      <td>12.0</td>\n",
       "      <td>0.313337</td>\n",
       "      <td>92.4</td>\n",
       "      <td>73.2</td>\n",
       "    </tr>\n",
       "  </tbody>\n",
       "</table>\n",
       "</div>"
      ],
      "text/plain": [
       "      Tumors  Controls  beta cutoff  % hypermethylated  % mutated\n",
       "KIRC   263.0     160.0     0.016482               75.3       52.9\n",
       "BLCA   130.0      21.0     0.316176               94.6       63.8\n",
       "STAD   349.0       2.0     0.161044               96.6       82.5\n",
       "HNSC   510.0      50.0     0.180760               98.6       85.3\n",
       "PRAD   498.0      50.0     0.523035               52.0       20.5\n",
       "KIRP   267.0      45.0     0.024678               50.6        7.5\n",
       "LIHC   373.0      50.0     0.057879               90.1       46.9\n",
       "LUAD   185.0      32.0     0.071018               75.7       85.4\n",
       "PAAD   150.0      10.0     0.069513               90.7       95.3\n",
       "BRCA   664.0      97.0     0.189592               74.4       54.2\n",
       "OV     302.0      12.0     0.313337               92.4       73.2"
      ]
     },
     "execution_count": 9,
     "metadata": {},
     "output_type": "execute_result"
    }
   ],
   "source": [
    "# master frequency table for all cancer types for plotting\n",
    "allCancerTypes = pd.DataFrame(\n",
    "    columns=['Tumors', 'Controls', 'beta cutoff', '% hypermethylated', '% mutated'])\n",
    "\n",
    "for key, value in sampleFileCallID.items():\n",
    "\n",
    "    # select cancer associated mutated genes:\n",
    "    geneFreqFile = mutationFiles + '{}/Mutated_Genes.txt'.format(key)\n",
    "    geneFreqDF = pd.read_table(geneFreqFile)\n",
    "    geneFreqDF['frac'] = [\n",
    "        float(i)/100.0 for i in geneFreqDF['Freq'].str.strip('%')]\n",
    "\n",
    "    cancerGenesDF = geneFreqDF[geneFreqDF['Is Cancer Gene (source: OncoKB)'] == 'Yes']\n",
    "    \n",
    "    if key == 'KIRP':\n",
    "        # KIRP has no genes with freq > 10%, so take top 2\n",
    "        cancerGenes = cancerGenesDF['Gene'][:2]\n",
    "    else:\n",
    "        cancerGenes = cancerGenesDF[cancerGenesDF['frac'] > 0.10]['Gene']\n",
    "\n",
    "    # get files for individual samples for given tissue:\n",
    "    sampleFilesFolder = mutationFiles + \\\n",
    "        '{}/gdac.broadinstitute.org_{}.Mutation_Packager_{}.Level_3.2016012800.0.0/'.format(\n",
    "            key, key, value)\n",
    "    \n",
    "    sampleMutationFiles = []\n",
    "    for (dirpath, dirnames, filenames) in os.walk(sampleFilesFolder):\n",
    "        sampleMutationFiles.extend(filenames)\n",
    "        break\n",
    "    sampleMutationFiles\n",
    "\n",
    "    # build mutation frequency table for samples based on selected cancer associated genes:\n",
    "    sampleMutationTable = sampleMutationFreqTable(\n",
    "        cancerGenes, sampleMutationFiles, sampleFilesFolder)\n",
    "\n",
    "    # -------------------------------------------------------------------------\n",
    "\n",
    "    # get methylation array beta values for ZNF154 for samples:\n",
    "    if key == 'OV':\n",
    "        methylationFile = methylationArrayPath + \\\n",
    "            '{}_27K_ZNF154.txt'.format(key)\n",
    "    else:\n",
    "        methylationFile = methylationArrayPath + \\\n",
    "            '{}_450K_ZNF154.txt'.format(key)\n",
    "        \n",
    "    methylationDF = pd.read_table(methylationFile, index_col=0)\n",
    "\n",
    "    # reformatting based on gdac methylation data file structure\n",
    "    methylationDF_Reformat = methylationDF[[\n",
    "        i for i in methylationDF.columns if '.' not in i]].loc['cg21790626']\n",
    "    methylationDF_Reformat.index = [\n",
    "        \".\".join(i[0:15].split('-')) for i in methylationDF_Reformat.index]\n",
    "\n",
    "    controlsBetaValues = methylationDF_Reformat[methylationDF_Reformat.index.str.endswith(\n",
    "        '.11')]\n",
    "    tumorsBetaValues = methylationDF_Reformat[methylationDF_Reformat.index.str.endswith(\n",
    "        '.01')]\n",
    "\n",
    "    # -------------------------------------------------------------------------\n",
    "    # combine mutation and methylation information for tumor samples for given cancer type\n",
    "\n",
    "    mutTableWithMeth = pd.concat(\n",
    "        [sampleMutationTable, tumorsBetaValues], axis=1, join='inner')\n",
    "\n",
    "    mutTableWithMeth = mutTableWithMeth[pd.notnull(\n",
    "        mutTableWithMeth['cg21790626'])]\n",
    "\n",
    "    # -------------------------------------------------------------------------\n",
    "\n",
    "    cancerTypeSummary = summaryTable(\n",
    "        mutTableWithMeth, controlsBetaValues, cancerGenes)\n",
    "\n",
    "    # append summary to master frquency table for subsequent plotting:\n",
    "    row = [cancerTypeSummary['total tumors'],\n",
    "           cancerTypeSummary['total controls'],\n",
    "           cancerTypeSummary['beta cutoff'],\n",
    "           cancerTypeSummary['cg21790626 hypermethylation frequency'],\n",
    "           cancerTypeSummary['Any']]\n",
    "    \n",
    "    allCancerTypes.loc[key] = row\n",
    "\n",
    "allCancerTypes"
   ]
  },
  {
   "cell_type": "markdown",
   "metadata": {
    "heading_collapsed": true,
    "hidden": true
   },
   "source": [
    "## Plot"
   ]
  },
  {
   "cell_type": "code",
   "execution_count": 10,
   "metadata": {
    "ExecuteTime": {
     "end_time": "2020-04-30T19:00:52.570659Z",
     "start_time": "2020-04-30T19:00:47.539553Z"
    },
    "hidden": true
   },
   "outputs": [
    {
     "data": {
      "image/png": "[encoded data removed]",
      "text/plain": [
       "<Figure size 576x432 with 1 Axes>"
      ]
     },
     "metadata": {
      "needs_background": "light"
     },
     "output_type": "display_data"
    }
   ],
   "source": [
    "figure1 = mutationVShypermethylation(allCancerTypes.sort_index())\n",
    "# figure1.show()\n",
    "\n",
    "figure1.savefig('Figure1.png',\n",
    "                bbox_inches='tight', pad_inches=0.5, dpi=600)"
   ]
  },
  {
   "cell_type": "markdown",
   "metadata": {
    "heading_collapsed": true
   },
   "source": [
    "# Figure 2 - Stage I Solid Tumors cg21790626 Beta Value Distributions"
   ]
  },
  {
   "cell_type": "markdown",
   "metadata": {
    "heading_collapsed": true,
    "hidden": true
   },
   "source": [
    "## Cancer IDs and Early Stage Samples"
   ]
  },
  {
   "cell_type": "code",
   "execution_count": 11,
   "metadata": {
    "ExecuteTime": {
     "end_time": "2020-04-30T19:00:52.577134Z",
     "start_time": "2020-04-30T19:00:52.572550Z"
    },
    "hidden": true
   },
   "outputs": [],
   "source": [
    "cancerTypes = ['STAD', 'KIRP', 'HNSC', 'BLCA', 'BRCA', 'LUAD', 'KIRC', 'PAAD', 'Serous_EOC', 'LIHC']"
   ]
  },
  {
   "cell_type": "code",
   "execution_count": 12,
   "metadata": {
    "ExecuteTime": {
     "end_time": "2020-04-30T19:00:52.617485Z",
     "start_time": "2020-04-30T19:00:52.580295Z"
    },
    "hidden": true
   },
   "outputs": [
    {
     "data": {
      "text/html": [
       "<div>\n",
       "<style scoped>\n",
       "    .dataframe tbody tr th:only-of-type {\n",
       "        vertical-align: middle;\n",
       "    }\n",
       "\n",
       "    .dataframe tbody tr th {\n",
       "        vertical-align: top;\n",
       "    }\n",
       "\n",
       "    .dataframe thead th {\n",
       "        text-align: right;\n",
       "    }\n",
       "</style>\n",
       "<table border=\"1\" class=\"dataframe\">\n",
       "  <thead>\n",
       "    <tr style=\"text-align: right;\">\n",
       "      <th></th>\n",
       "      <th>sampleID</th>\n",
       "      <th>Stage</th>\n",
       "      <th>Classification</th>\n",
       "      <th>Cancer</th>\n",
       "    </tr>\n",
       "  </thead>\n",
       "  <tbody>\n",
       "    <tr>\n",
       "      <td>0</td>\n",
       "      <td>TCGA-BL-A0C8-01</td>\n",
       "      <td>Stage_I</td>\n",
       "      <td>pathologic_stage</td>\n",
       "      <td>BLCA</td>\n",
       "    </tr>\n",
       "    <tr>\n",
       "      <td>1</td>\n",
       "      <td>TCGA-FJ-A3Z9-01</td>\n",
       "      <td>Stage_I</td>\n",
       "      <td>pathologic_stage</td>\n",
       "      <td>BLCA</td>\n",
       "    </tr>\n",
       "    <tr>\n",
       "      <td>2</td>\n",
       "      <td>TCGA-A1-A0SB-01</td>\n",
       "      <td>Stage_I</td>\n",
       "      <td>pathologic_stage</td>\n",
       "      <td>BRCA</td>\n",
       "    </tr>\n",
       "    <tr>\n",
       "      <td>3</td>\n",
       "      <td>TCGA-A1-A0SE-01</td>\n",
       "      <td>Stage_I</td>\n",
       "      <td>pathologic_stage</td>\n",
       "      <td>BRCA</td>\n",
       "    </tr>\n",
       "    <tr>\n",
       "      <td>4</td>\n",
       "      <td>TCGA-A2-A0EP-01</td>\n",
       "      <td>Stage_I</td>\n",
       "      <td>pathologic_stage</td>\n",
       "      <td>BRCA</td>\n",
       "    </tr>\n",
       "    <tr>\n",
       "      <td>...</td>\n",
       "      <td>...</td>\n",
       "      <td>...</td>\n",
       "      <td>...</td>\n",
       "      <td>...</td>\n",
       "    </tr>\n",
       "    <tr>\n",
       "      <td>1054</td>\n",
       "      <td>TCGA-FI-A2D0-01</td>\n",
       "      <td>Stage_IA</td>\n",
       "      <td>clinical_stage</td>\n",
       "      <td>UCEC</td>\n",
       "    </tr>\n",
       "    <tr>\n",
       "      <td>1055</td>\n",
       "      <td>TCGA-FI-A2EU-01</td>\n",
       "      <td>Stage_IA</td>\n",
       "      <td>clinical_stage</td>\n",
       "      <td>UCEC</td>\n",
       "    </tr>\n",
       "    <tr>\n",
       "      <td>1056</td>\n",
       "      <td>TCGA-FI-A2F9-01</td>\n",
       "      <td>Stage_IA</td>\n",
       "      <td>clinical_stage</td>\n",
       "      <td>UCEC</td>\n",
       "    </tr>\n",
       "    <tr>\n",
       "      <td>1057</td>\n",
       "      <td>TCGA-FI-A3PV-01</td>\n",
       "      <td>Stage_IA</td>\n",
       "      <td>clinical_stage</td>\n",
       "      <td>UCEC</td>\n",
       "    </tr>\n",
       "    <tr>\n",
       "      <td>1058</td>\n",
       "      <td>TCGA-KJ-A3U4-01</td>\n",
       "      <td>Stage_IA</td>\n",
       "      <td>clinical_stage</td>\n",
       "      <td>UCEC</td>\n",
       "    </tr>\n",
       "  </tbody>\n",
       "</table>\n",
       "<p>1059 rows × 4 columns</p>\n",
       "</div>"
      ],
      "text/plain": [
       "             sampleID     Stage    Classification Cancer\n",
       "0     TCGA-BL-A0C8-01   Stage_I  pathologic_stage   BLCA\n",
       "1     TCGA-FJ-A3Z9-01   Stage_I  pathologic_stage   BLCA\n",
       "2     TCGA-A1-A0SB-01   Stage_I  pathologic_stage   BRCA\n",
       "3     TCGA-A1-A0SE-01   Stage_I  pathologic_stage   BRCA\n",
       "4     TCGA-A2-A0EP-01   Stage_I  pathologic_stage   BRCA\n",
       "...               ...       ...               ...    ...\n",
       "1054  TCGA-FI-A2D0-01  Stage_IA    clinical_stage   UCEC\n",
       "1055  TCGA-FI-A2EU-01  Stage_IA    clinical_stage   UCEC\n",
       "1056  TCGA-FI-A2F9-01  Stage_IA    clinical_stage   UCEC\n",
       "1057  TCGA-FI-A3PV-01  Stage_IA    clinical_stage   UCEC\n",
       "1058  TCGA-KJ-A3U4-01  Stage_IA    clinical_stage   UCEC\n",
       "\n",
       "[1059 rows x 4 columns]"
      ]
     },
     "execution_count": 12,
     "metadata": {},
     "output_type": "execute_result"
    }
   ],
   "source": [
    "earlyStageSamples = pd.read_table('methylationArrayData/TCGA_earlyStage_samples.txt')\n",
    "earlyStageSamples"
   ]
  },
  {
   "cell_type": "markdown",
   "metadata": {
    "heading_collapsed": true,
    "hidden": true
   },
   "source": [
    "## Bartlett Data"
   ]
  },
  {
   "cell_type": "code",
   "execution_count": 13,
   "metadata": {
    "ExecuteTime": {
     "end_time": "2020-04-30T19:00:52.624910Z",
     "start_time": "2020-04-30T19:00:52.619850Z"
    },
    "hidden": true
   },
   "outputs": [],
   "source": [
    "# 221 OV samples path:\n",
    "eocSampleInfoPath = 'methylationArrayData/Bartlett/GSE72021_series_matrix.txt'\n",
    "eocBetaValuesPath = 'methylationArrayData/Bartlett/GSE72021_AverageBetaValues 2.csv'\n",
    "\n",
    "# 216 Fallopian Tube Controls:\n",
    "ftDataPath = 'methylationArrayData/Bartlett/2015_Bartlett_fallopian_tube_samples_GSE74845_series_matrix_2.txt'"
   ]
  },
  {
   "cell_type": "code",
   "execution_count": 14,
   "metadata": {
    "ExecuteTime": {
     "end_time": "2020-04-30T19:00:52.730348Z",
     "start_time": "2020-04-30T19:00:52.627957Z"
    },
    "hidden": true
   },
   "outputs": [
    {
     "data": {
      "text/html": [
       "<div>\n",
       "<style scoped>\n",
       "    .dataframe tbody tr th:only-of-type {\n",
       "        vertical-align: middle;\n",
       "    }\n",
       "\n",
       "    .dataframe tbody tr th {\n",
       "        vertical-align: top;\n",
       "    }\n",
       "\n",
       "    .dataframe thead th {\n",
       "        text-align: right;\n",
       "    }\n",
       "</style>\n",
       "<table border=\"1\" class=\"dataframe\">\n",
       "  <thead>\n",
       "    <tr style=\"text-align: right;\">\n",
       "      <th></th>\n",
       "      <th>Type</th>\n",
       "      <th>Sample</th>\n",
       "      <th>Stage</th>\n",
       "    </tr>\n",
       "  </thead>\n",
       "  <tbody>\n",
       "    <tr>\n",
       "      <td>108</td>\n",
       "      <td>serous</td>\n",
       "      <td>Sample108</td>\n",
       "      <td>1</td>\n",
       "    </tr>\n",
       "    <tr>\n",
       "      <td>132</td>\n",
       "      <td>serous</td>\n",
       "      <td>Sample132</td>\n",
       "      <td>1</td>\n",
       "    </tr>\n",
       "    <tr>\n",
       "      <td>151</td>\n",
       "      <td>serous</td>\n",
       "      <td>Sample151</td>\n",
       "      <td>1</td>\n",
       "    </tr>\n",
       "    <tr>\n",
       "      <td>193</td>\n",
       "      <td>serous</td>\n",
       "      <td>Sample193</td>\n",
       "      <td>1</td>\n",
       "    </tr>\n",
       "    <tr>\n",
       "      <td>196</td>\n",
       "      <td>serous</td>\n",
       "      <td>Sample196</td>\n",
       "      <td>1</td>\n",
       "    </tr>\n",
       "    <tr>\n",
       "      <td>199</td>\n",
       "      <td>serous</td>\n",
       "      <td>Sample199</td>\n",
       "      <td>1</td>\n",
       "    </tr>\n",
       "    <tr>\n",
       "      <td>201</td>\n",
       "      <td>serous</td>\n",
       "      <td>Sample201</td>\n",
       "      <td>1</td>\n",
       "    </tr>\n",
       "  </tbody>\n",
       "</table>\n",
       "</div>"
      ],
      "text/plain": [
       "       Type     Sample  Stage\n",
       "108  serous  Sample108      1\n",
       "132  serous  Sample132      1\n",
       "151  serous  Sample151      1\n",
       "193  serous  Sample193      1\n",
       "196  serous  Sample196      1\n",
       "199  serous  Sample199      1\n",
       "201  serous  Sample201      1"
      ]
     },
     "execution_count": 14,
     "metadata": {},
     "output_type": "execute_result"
    }
   ],
   "source": [
    "# Select samples of interest by ID\n",
    "eoc_label_df = pd.read_table(\n",
    "    eocSampleInfoPath, skiprows=26, index_col=0, header=None)\n",
    "EOCLabels = eoc_label_df.loc[['!Sample_title', '!Sample_description',\n",
    "                              '!Sample_characteristics_ch1']].T.iloc[:, [0, 1, 5]]\n",
    "EOCLabels.columns = ['Type', 'Sample', 'Stage']\n",
    "EOCLabels['Type'] = EOCLabels['Type'].str.split(' ').str[0]\n",
    "EOCLabels['Stage'] = EOCLabels['Stage'].str.split(' ').str[1]\n",
    "\n",
    "EOCLabels['Stage'] = pd.to_numeric(EOCLabels['Stage'], errors='coerce')\n",
    "\n",
    "EarlySerousSamples = EOCLabels[ (EOCLabels['Type'] == 'serous') & ( EOCLabels['Stage'] == 1 )]\n",
    "EarlySerousSamples"
   ]
  },
  {
   "cell_type": "code",
   "execution_count": 15,
   "metadata": {
    "ExecuteTime": {
     "end_time": "2020-04-30T19:01:07.610258Z",
     "start_time": "2020-04-30T19:00:52.733453Z"
    },
    "hidden": true
   },
   "outputs": [
    {
     "data": {
      "text/html": [
       "<div>\n",
       "<style scoped>\n",
       "    .dataframe tbody tr th:only-of-type {\n",
       "        vertical-align: middle;\n",
       "    }\n",
       "\n",
       "    .dataframe tbody tr th {\n",
       "        vertical-align: top;\n",
       "    }\n",
       "\n",
       "    .dataframe thead th {\n",
       "        text-align: right;\n",
       "    }\n",
       "</style>\n",
       "<table border=\"1\" class=\"dataframe\">\n",
       "  <thead>\n",
       "    <tr style=\"text-align: right;\">\n",
       "      <th></th>\n",
       "      <th>Sample1</th>\n",
       "      <th>Sample2</th>\n",
       "      <th>Sample3</th>\n",
       "      <th>Sample4</th>\n",
       "      <th>Sample5</th>\n",
       "      <th>Sample6</th>\n",
       "      <th>Sample7</th>\n",
       "      <th>Sample8</th>\n",
       "      <th>Sample9</th>\n",
       "      <th>Sample10</th>\n",
       "      <th>...</th>\n",
       "      <th>Sample212</th>\n",
       "      <th>Sample213</th>\n",
       "      <th>Sample214</th>\n",
       "      <th>Sample215</th>\n",
       "      <th>Sample216</th>\n",
       "      <th>Sample217</th>\n",
       "      <th>Sample218</th>\n",
       "      <th>Sample219</th>\n",
       "      <th>Sample220</th>\n",
       "      <th>Sample221</th>\n",
       "    </tr>\n",
       "    <tr>\n",
       "      <th>ID_REF</th>\n",
       "      <th></th>\n",
       "      <th></th>\n",
       "      <th></th>\n",
       "      <th></th>\n",
       "      <th></th>\n",
       "      <th></th>\n",
       "      <th></th>\n",
       "      <th></th>\n",
       "      <th></th>\n",
       "      <th></th>\n",
       "      <th></th>\n",
       "      <th></th>\n",
       "      <th></th>\n",
       "      <th></th>\n",
       "      <th></th>\n",
       "      <th></th>\n",
       "      <th></th>\n",
       "      <th></th>\n",
       "      <th></th>\n",
       "      <th></th>\n",
       "      <th></th>\n",
       "    </tr>\n",
       "  </thead>\n",
       "  <tbody>\n",
       "    <tr>\n",
       "      <td>cg00000029</td>\n",
       "      <td>0.19462</td>\n",
       "      <td>0.25000</td>\n",
       "      <td>0.22352</td>\n",
       "      <td>0.27041</td>\n",
       "      <td>0.39602</td>\n",
       "      <td>0.27218</td>\n",
       "      <td>0.26030</td>\n",
       "      <td>0.17821</td>\n",
       "      <td>0.14310</td>\n",
       "      <td>0.43044</td>\n",
       "      <td>...</td>\n",
       "      <td>0.49797</td>\n",
       "      <td>0.20376</td>\n",
       "      <td>0.424530</td>\n",
       "      <td>0.25253</td>\n",
       "      <td>0.38367</td>\n",
       "      <td>0.32116</td>\n",
       "      <td>0.15027</td>\n",
       "      <td>0.38103</td>\n",
       "      <td>0.18857</td>\n",
       "      <td>0.21171</td>\n",
       "    </tr>\n",
       "    <tr>\n",
       "      <td>cg00000165</td>\n",
       "      <td>0.13601</td>\n",
       "      <td>0.47873</td>\n",
       "      <td>0.26978</td>\n",
       "      <td>0.24587</td>\n",
       "      <td>0.39835</td>\n",
       "      <td>0.54589</td>\n",
       "      <td>0.73611</td>\n",
       "      <td>0.24301</td>\n",
       "      <td>0.43061</td>\n",
       "      <td>0.76439</td>\n",
       "      <td>...</td>\n",
       "      <td>0.41214</td>\n",
       "      <td>0.71000</td>\n",
       "      <td>0.531590</td>\n",
       "      <td>0.40299</td>\n",
       "      <td>0.79948</td>\n",
       "      <td>0.41207</td>\n",
       "      <td>0.22227</td>\n",
       "      <td>0.31870</td>\n",
       "      <td>0.80539</td>\n",
       "      <td>0.29536</td>\n",
       "    </tr>\n",
       "    <tr>\n",
       "      <td>cg00000236</td>\n",
       "      <td>0.89565</td>\n",
       "      <td>0.88678</td>\n",
       "      <td>0.89101</td>\n",
       "      <td>0.92595</td>\n",
       "      <td>0.91339</td>\n",
       "      <td>0.89206</td>\n",
       "      <td>0.90170</td>\n",
       "      <td>0.85631</td>\n",
       "      <td>0.91185</td>\n",
       "      <td>0.89163</td>\n",
       "      <td>...</td>\n",
       "      <td>0.89350</td>\n",
       "      <td>0.92510</td>\n",
       "      <td>0.656130</td>\n",
       "      <td>0.88547</td>\n",
       "      <td>0.84562</td>\n",
       "      <td>0.90423</td>\n",
       "      <td>0.91883</td>\n",
       "      <td>0.91078</td>\n",
       "      <td>0.90047</td>\n",
       "      <td>0.91121</td>\n",
       "    </tr>\n",
       "    <tr>\n",
       "      <td>cg00000289</td>\n",
       "      <td>0.64114</td>\n",
       "      <td>0.50600</td>\n",
       "      <td>0.57868</td>\n",
       "      <td>0.62456</td>\n",
       "      <td>0.54298</td>\n",
       "      <td>0.64401</td>\n",
       "      <td>0.59091</td>\n",
       "      <td>0.54305</td>\n",
       "      <td>0.75973</td>\n",
       "      <td>0.67500</td>\n",
       "      <td>...</td>\n",
       "      <td>0.60943</td>\n",
       "      <td>0.70253</td>\n",
       "      <td>0.439447</td>\n",
       "      <td>0.54289</td>\n",
       "      <td>0.62472</td>\n",
       "      <td>0.68214</td>\n",
       "      <td>0.70229</td>\n",
       "      <td>0.65263</td>\n",
       "      <td>0.69807</td>\n",
       "      <td>0.75197</td>\n",
       "    </tr>\n",
       "    <tr>\n",
       "      <td>cg00000292</td>\n",
       "      <td>0.68781</td>\n",
       "      <td>0.82335</td>\n",
       "      <td>0.86111</td>\n",
       "      <td>0.92079</td>\n",
       "      <td>0.84273</td>\n",
       "      <td>0.78214</td>\n",
       "      <td>0.88271</td>\n",
       "      <td>0.87749</td>\n",
       "      <td>0.70540</td>\n",
       "      <td>0.83816</td>\n",
       "      <td>...</td>\n",
       "      <td>0.85111</td>\n",
       "      <td>0.90821</td>\n",
       "      <td>0.817950</td>\n",
       "      <td>0.89114</td>\n",
       "      <td>0.81808</td>\n",
       "      <td>0.72325</td>\n",
       "      <td>0.90952</td>\n",
       "      <td>0.73871</td>\n",
       "      <td>0.77836</td>\n",
       "      <td>0.74875</td>\n",
       "    </tr>\n",
       "    <tr>\n",
       "      <td>...</td>\n",
       "      <td>...</td>\n",
       "      <td>...</td>\n",
       "      <td>...</td>\n",
       "      <td>...</td>\n",
       "      <td>...</td>\n",
       "      <td>...</td>\n",
       "      <td>...</td>\n",
       "      <td>...</td>\n",
       "      <td>...</td>\n",
       "      <td>...</td>\n",
       "      <td>...</td>\n",
       "      <td>...</td>\n",
       "      <td>...</td>\n",
       "      <td>...</td>\n",
       "      <td>...</td>\n",
       "      <td>...</td>\n",
       "      <td>...</td>\n",
       "      <td>...</td>\n",
       "      <td>...</td>\n",
       "      <td>...</td>\n",
       "      <td>...</td>\n",
       "    </tr>\n",
       "    <tr>\n",
       "      <td>cg27665860</td>\n",
       "      <td>0.86177</td>\n",
       "      <td>0.88661</td>\n",
       "      <td>0.87749</td>\n",
       "      <td>0.88432</td>\n",
       "      <td>0.86489</td>\n",
       "      <td>0.86954</td>\n",
       "      <td>0.89235</td>\n",
       "      <td>0.81905</td>\n",
       "      <td>0.87590</td>\n",
       "      <td>0.79101</td>\n",
       "      <td>...</td>\n",
       "      <td>0.83260</td>\n",
       "      <td>0.89059</td>\n",
       "      <td>0.882630</td>\n",
       "      <td>0.87445</td>\n",
       "      <td>0.87312</td>\n",
       "      <td>0.82317</td>\n",
       "      <td>0.88494</td>\n",
       "      <td>0.78689</td>\n",
       "      <td>0.83208</td>\n",
       "      <td>0.80861</td>\n",
       "    </tr>\n",
       "    <tr>\n",
       "      <td>cg27665925</td>\n",
       "      <td>0.02357</td>\n",
       "      <td>0.01686</td>\n",
       "      <td>0.02698</td>\n",
       "      <td>0.01380</td>\n",
       "      <td>0.01832</td>\n",
       "      <td>0.02066</td>\n",
       "      <td>0.03860</td>\n",
       "      <td>0.03057</td>\n",
       "      <td>0.02679</td>\n",
       "      <td>0.02540</td>\n",
       "      <td>...</td>\n",
       "      <td>0.02232</td>\n",
       "      <td>0.03253</td>\n",
       "      <td>0.170480</td>\n",
       "      <td>0.02477</td>\n",
       "      <td>0.27520</td>\n",
       "      <td>0.02242</td>\n",
       "      <td>0.01623</td>\n",
       "      <td>0.03050</td>\n",
       "      <td>0.01566</td>\n",
       "      <td>0.01365</td>\n",
       "    </tr>\n",
       "    <tr>\n",
       "      <td>cg27665985</td>\n",
       "      <td>0.26722</td>\n",
       "      <td>0.21004</td>\n",
       "      <td>0.24243</td>\n",
       "      <td>0.29544</td>\n",
       "      <td>0.35638</td>\n",
       "      <td>0.23516</td>\n",
       "      <td>0.35492</td>\n",
       "      <td>0.28776</td>\n",
       "      <td>0.38698</td>\n",
       "      <td>0.17836</td>\n",
       "      <td>...</td>\n",
       "      <td>0.34562</td>\n",
       "      <td>0.51657</td>\n",
       "      <td>0.332900</td>\n",
       "      <td>0.30252</td>\n",
       "      <td>0.20033</td>\n",
       "      <td>0.30591</td>\n",
       "      <td>0.40448</td>\n",
       "      <td>0.28286</td>\n",
       "      <td>0.28820</td>\n",
       "      <td>0.29040</td>\n",
       "    </tr>\n",
       "    <tr>\n",
       "      <td>cg27666046</td>\n",
       "      <td>0.07844</td>\n",
       "      <td>0.15119</td>\n",
       "      <td>0.27620</td>\n",
       "      <td>0.12720</td>\n",
       "      <td>0.22640</td>\n",
       "      <td>0.24589</td>\n",
       "      <td>0.15917</td>\n",
       "      <td>0.04644</td>\n",
       "      <td>0.17112</td>\n",
       "      <td>0.30911</td>\n",
       "      <td>...</td>\n",
       "      <td>0.44775</td>\n",
       "      <td>0.15398</td>\n",
       "      <td>0.309540</td>\n",
       "      <td>0.35189</td>\n",
       "      <td>0.26583</td>\n",
       "      <td>0.47827</td>\n",
       "      <td>0.18257</td>\n",
       "      <td>0.43155</td>\n",
       "      <td>0.20145</td>\n",
       "      <td>0.45983</td>\n",
       "    </tr>\n",
       "    <tr>\n",
       "      <td>cg27666123</td>\n",
       "      <td>0.76808</td>\n",
       "      <td>0.50578</td>\n",
       "      <td>0.86797</td>\n",
       "      <td>0.35468</td>\n",
       "      <td>0.74993</td>\n",
       "      <td>0.86291</td>\n",
       "      <td>0.71658</td>\n",
       "      <td>0.73241</td>\n",
       "      <td>0.60390</td>\n",
       "      <td>0.71278</td>\n",
       "      <td>...</td>\n",
       "      <td>0.84287</td>\n",
       "      <td>0.82816</td>\n",
       "      <td>0.534130</td>\n",
       "      <td>0.85159</td>\n",
       "      <td>0.84371</td>\n",
       "      <td>0.85736</td>\n",
       "      <td>0.24110</td>\n",
       "      <td>0.87111</td>\n",
       "      <td>0.67042</td>\n",
       "      <td>0.88789</td>\n",
       "    </tr>\n",
       "  </tbody>\n",
       "</table>\n",
       "<p>382727 rows × 221 columns</p>\n",
       "</div>"
      ],
      "text/plain": [
       "            Sample1  Sample2  Sample3  Sample4  Sample5  Sample6  Sample7  \\\n",
       "ID_REF                                                                      \n",
       "cg00000029  0.19462  0.25000  0.22352  0.27041  0.39602  0.27218  0.26030   \n",
       "cg00000165  0.13601  0.47873  0.26978  0.24587  0.39835  0.54589  0.73611   \n",
       "cg00000236  0.89565  0.88678  0.89101  0.92595  0.91339  0.89206  0.90170   \n",
       "cg00000289  0.64114  0.50600  0.57868  0.62456  0.54298  0.64401  0.59091   \n",
       "cg00000292  0.68781  0.82335  0.86111  0.92079  0.84273  0.78214  0.88271   \n",
       "...             ...      ...      ...      ...      ...      ...      ...   \n",
       "cg27665860  0.86177  0.88661  0.87749  0.88432  0.86489  0.86954  0.89235   \n",
       "cg27665925  0.02357  0.01686  0.02698  0.01380  0.01832  0.02066  0.03860   \n",
       "cg27665985  0.26722  0.21004  0.24243  0.29544  0.35638  0.23516  0.35492   \n",
       "cg27666046  0.07844  0.15119  0.27620  0.12720  0.22640  0.24589  0.15917   \n",
       "cg27666123  0.76808  0.50578  0.86797  0.35468  0.74993  0.86291  0.71658   \n",
       "\n",
       "            Sample8  Sample9  Sample10  ...  Sample212  Sample213  Sample214  \\\n",
       "ID_REF                                  ...                                    \n",
       "cg00000029  0.17821  0.14310   0.43044  ...    0.49797    0.20376   0.424530   \n",
       "cg00000165  0.24301  0.43061   0.76439  ...    0.41214    0.71000   0.531590   \n",
       "cg00000236  0.85631  0.91185   0.89163  ...    0.89350    0.92510   0.656130   \n",
       "cg00000289  0.54305  0.75973   0.67500  ...    0.60943    0.70253   0.439447   \n",
       "cg00000292  0.87749  0.70540   0.83816  ...    0.85111    0.90821   0.817950   \n",
       "...             ...      ...       ...  ...        ...        ...        ...   \n",
       "cg27665860  0.81905  0.87590   0.79101  ...    0.83260    0.89059   0.882630   \n",
       "cg27665925  0.03057  0.02679   0.02540  ...    0.02232    0.03253   0.170480   \n",
       "cg27665985  0.28776  0.38698   0.17836  ...    0.34562    0.51657   0.332900   \n",
       "cg27666046  0.04644  0.17112   0.30911  ...    0.44775    0.15398   0.309540   \n",
       "cg27666123  0.73241  0.60390   0.71278  ...    0.84287    0.82816   0.534130   \n",
       "\n",
       "            Sample215  Sample216  Sample217  Sample218  Sample219  Sample220  \\\n",
       "ID_REF                                                                         \n",
       "cg00000029    0.25253    0.38367    0.32116    0.15027    0.38103    0.18857   \n",
       "cg00000165    0.40299    0.79948    0.41207    0.22227    0.31870    0.80539   \n",
       "cg00000236    0.88547    0.84562    0.90423    0.91883    0.91078    0.90047   \n",
       "cg00000289    0.54289    0.62472    0.68214    0.70229    0.65263    0.69807   \n",
       "cg00000292    0.89114    0.81808    0.72325    0.90952    0.73871    0.77836   \n",
       "...               ...        ...        ...        ...        ...        ...   \n",
       "cg27665860    0.87445    0.87312    0.82317    0.88494    0.78689    0.83208   \n",
       "cg27665925    0.02477    0.27520    0.02242    0.01623    0.03050    0.01566   \n",
       "cg27665985    0.30252    0.20033    0.30591    0.40448    0.28286    0.28820   \n",
       "cg27666046    0.35189    0.26583    0.47827    0.18257    0.43155    0.20145   \n",
       "cg27666123    0.85159    0.84371    0.85736    0.24110    0.87111    0.67042   \n",
       "\n",
       "            Sample221  \n",
       "ID_REF                 \n",
       "cg00000029    0.21171  \n",
       "cg00000165    0.29536  \n",
       "cg00000236    0.91121  \n",
       "cg00000289    0.75197  \n",
       "cg00000292    0.74875  \n",
       "...               ...  \n",
       "cg27665860    0.80861  \n",
       "cg27665925    0.01365  \n",
       "cg27665985    0.29040  \n",
       "cg27666046    0.45983  \n",
       "cg27666123    0.88789  \n",
       "\n",
       "[382727 rows x 221 columns]"
      ]
     },
     "execution_count": 15,
     "metadata": {},
     "output_type": "execute_result"
    }
   ],
   "source": [
    "eocBetaValue = pd.read_csv(eocBetaValuesPath, index_col=0)\n",
    "eocBetaValue"
   ]
  },
  {
   "cell_type": "code",
   "execution_count": 16,
   "metadata": {
    "ExecuteTime": {
     "end_time": "2020-04-30T19:01:07.744835Z",
     "start_time": "2020-04-30T19:01:07.614160Z"
    },
    "hidden": true
   },
   "outputs": [
    {
     "data": {
      "text/plain": [
       "Sample108    0.76534\n",
       "Sample132    0.79050\n",
       "Sample151    0.49273\n",
       "Sample193    0.63197\n",
       "Sample196    0.79009\n",
       "Sample199    0.03598\n",
       "Sample201    0.02665\n",
       "Name: cg21790626, dtype: float64"
      ]
     },
     "execution_count": 16,
     "metadata": {},
     "output_type": "execute_result"
    }
   ],
   "source": [
    "EarlySerousBetas = eocBetaValue.loc['cg21790626', EarlySerousSamples['Sample'].values]\n",
    "EarlySerousBetas"
   ]
  },
  {
   "cell_type": "code",
   "execution_count": 17,
   "metadata": {
    "ExecuteTime": {
     "end_time": "2020-04-30T19:01:56.680822Z",
     "start_time": "2020-04-30T19:01:07.748840Z"
    },
    "hidden": true
   },
   "outputs": [
    {
     "name": "stderr",
     "output_type": "stream",
     "text": [
      "/Users/millerbf2/miniconda3/envs/py3/lib/python3.7/site-packages/IPython/core/interactiveshell.py:3058: DtypeWarning: Columns (1,2,3,4,5,6,7,8,9,10,11,12,13,14,15,16,17,18,19,20,21,22,23,24,25,26,27,28,29,30,31,32,33,34,35,36,37,38,39,40,41,42,43,44,45,46,47,48,49,50,51,52,53,54,55,56,57,58,59,60,61,62,63,64,65,66,67,68,69,70,71,72,73,74,75,76,77,78,79,80,81,82,83,84,85,86,87,88,89,90,91,92,93,94,95,96,97,98,99,100,101,102,103,104,105,106,107,108,109,110,111,112,113,114,115,116,117,118,119,120,121,122,123,124,125,126,127,128,129,130,131,132,133,134,135,136,137,138,139,140,141,142,143,144,145,146,147,148,149,150,151,152,153,154,155,156,157,158,159,160,161,162,163,164,165,166,167,168,169,170,171,172,173,174,175,176,177,178,179,180,181,182,183,184,185,186,187,188,189,190,191,192,193,194,195,196,197,198,199,200,201,202,203,204,205,206,207,208,209,210,211,212,213,214,215,216) have mixed types. Specify dtype option on import or set low_memory=False.\n",
      "  interactivity=interactivity, compiler=compiler, result=result)\n"
     ]
    },
    {
     "data": {
      "text/plain": [
       "Sample1      0.0222535\n",
       "Sample2      0.0347432\n",
       "Sample3      0.0424989\n",
       "Sample4      0.0257681\n",
       "Sample5       0.176082\n",
       "               ...    \n",
       "Sample212    0.0703746\n",
       "Sample213    0.0117746\n",
       "Sample214     0.104848\n",
       "Sample215     0.085448\n",
       "Sample216    0.0630573\n",
       "Name: cg21790626, Length: 216, dtype: object"
      ]
     },
     "execution_count": 17,
     "metadata": {},
     "output_type": "execute_result"
    }
   ],
   "source": [
    "ft_df = pd.read_table(ftDataPath, skiprows=46, index_col=0, header=0)\n",
    "ft_df.loc['cg21790626']"
   ]
  },
  {
   "cell_type": "code",
   "execution_count": 18,
   "metadata": {
    "ExecuteTime": {
     "end_time": "2020-04-30T19:01:56.697700Z",
     "start_time": "2020-04-30T19:01:56.685561Z"
    },
    "hidden": true
   },
   "outputs": [
    {
     "data": {
      "text/plain": [
       "Sample1      0.0222535\n",
       "Sample2      0.0347432\n",
       "Sample3      0.0424989\n",
       "Sample4      0.0257681\n",
       "Sample5       0.176082\n",
       "               ...    \n",
       "Sample212    0.0703746\n",
       "Sample213    0.0117746\n",
       "Sample214     0.104848\n",
       "Sample215     0.085448\n",
       "Sample216    0.0630573\n",
       "Name: cg21790626, Length: 216, dtype: object"
      ]
     },
     "execution_count": 18,
     "metadata": {},
     "output_type": "execute_result"
    }
   ],
   "source": [
    "fallopianTubeValues = ft_df.loc['cg21790626']\n",
    "fallopianTubeValues"
   ]
  },
  {
   "cell_type": "markdown",
   "metadata": {
    "heading_collapsed": true,
    "hidden": true
   },
   "source": [
    "## Plot"
   ]
  },
  {
   "cell_type": "code",
   "execution_count": 19,
   "metadata": {
    "ExecuteTime": {
     "end_time": "2020-04-30T19:02:11.086143Z",
     "start_time": "2020-04-30T19:01:56.702380Z"
    },
    "hidden": true,
    "scrolled": false
   },
   "outputs": [
    {
     "name": "stderr",
     "output_type": "stream",
     "text": [
      "/Users/millerbf2/miniconda3/envs/py3/lib/python3.7/site-packages/ipykernel_launcher.py:41: FutureWarning: \n",
      "Passing list-likes to .loc or [] with any missing label will raise\n",
      "KeyError in the future, you can use .reindex() as an alternative.\n",
      "\n",
      "See the documentation here:\n",
      "https://pandas.pydata.org/pandas-docs/stable/user_guide/indexing.html#deprecate-loc-reindex-listlike\n",
      "/Users/millerbf2/miniconda3/envs/py3/lib/python3.7/site-packages/ipykernel_launcher.py:41: FutureWarning: \n",
      "Passing list-likes to .loc or [] with any missing label will raise\n",
      "KeyError in the future, you can use .reindex() as an alternative.\n",
      "\n",
      "See the documentation here:\n",
      "https://pandas.pydata.org/pandas-docs/stable/user_guide/indexing.html#deprecate-loc-reindex-listlike\n",
      "/Users/millerbf2/miniconda3/envs/py3/lib/python3.7/site-packages/ipykernel_launcher.py:41: FutureWarning: \n",
      "Passing list-likes to .loc or [] with any missing label will raise\n",
      "KeyError in the future, you can use .reindex() as an alternative.\n",
      "\n",
      "See the documentation here:\n",
      "https://pandas.pydata.org/pandas-docs/stable/user_guide/indexing.html#deprecate-loc-reindex-listlike\n"
     ]
    },
    {
     "data": {
      "image/png": "[encoded data removed]",
      "text/plain": [
       "<Figure size 1728x288 with 1 Axes>"
      ]
     },
     "metadata": {
      "needs_background": "light"
     },
     "output_type": "display_data"
    }
   ],
   "source": [
    "fig, ax = plt.subplots(figsize=(24, 4))\n",
    "ax.set_ylim([0, 1.15])\n",
    "\n",
    "labels = []\n",
    "x_label_positions = []\n",
    "position = 1\n",
    "\n",
    "for cancerID in cancerTypes:\n",
    "\n",
    "    if cancerID == 'Serous_EOC':\n",
    "        # -------------------------------------------------------------------------\n",
    "        # for Bartlett Data post-processed and filtered:\n",
    "        \n",
    "        controlsBetaValues = fallopianTubeValues\n",
    "        earlyTumorValues = EarlySerousBetas\n",
    "        \n",
    "        numCases = len(earlyTumorValues)\n",
    "        numControls = len(controlsBetaValues)\n",
    "\n",
    "    else:\n",
    "        # -------------------------------------------------------------------------\n",
    "        # for TCGA datasets:\n",
    "\n",
    "        # early stage tumor samples\n",
    "        earlyStageIDs = ['.'.join(i.split(\n",
    "            '-')) for i in earlyStageSamples[earlyStageSamples['Cancer'] == cancerID]['sampleID'].values.tolist()]\n",
    "\n",
    "        methylationFile = methylationArrayPath + '{}_450K_ZNF154.txt'.format(cancerID)\n",
    "        methylationDF = pd.read_table(methylationFile, index_col=0)\n",
    "\n",
    "        # reformatting based on gdac methylation data file structure\n",
    "        methylationDF_Reformat = methylationDF[[\n",
    "            i for i in methylationDF.columns if '.' not in i]].loc['cg21790626']\n",
    "        methylationDF_Reformat.index = [\n",
    "            \".\".join(i[0:15].split('-')) for i in methylationDF_Reformat.index]\n",
    "\n",
    "        controlsBetaValues = methylationDF_Reformat[methylationDF_Reformat.index.str.endswith(\n",
    "            '.11')]\n",
    "        tumorsBetaValues = methylationDF_Reformat[methylationDF_Reformat.index.str.endswith(\n",
    "            '.01')]\n",
    "        earlyTumorValues = tumorsBetaValues.loc[earlyStageIDs].dropna()\n",
    "        \n",
    "        numCases = len(earlyTumorValues)\n",
    "        numControls = len(controlsBetaValues)\n",
    "        \n",
    "    # -------------------------------------------------------------------------\n",
    "    # Plotting:\n",
    "\n",
    "    if numCases == 0 or numControls == 0:\n",
    "        continue\n",
    "    else:\n",
    "        labels.append(cancerID)\n",
    "        x_label_positions.append(position)\n",
    "\n",
    "        bp = ax.boxplot([earlyTumorValues, controlsBetaValues],\n",
    "                        positions=[position-0.25, position+0.25],\n",
    "                        widths=0.4, patch_artist=True)\n",
    "\n",
    "        for flier in bp['fliers']:\n",
    "            flier.set(marker='', color='black')\n",
    "        for whisker in bp['whiskers']:\n",
    "            whisker.set(color='black', linewidth=2)\n",
    "        for cap in bp['caps']:\n",
    "            cap.set(color='black', linewidth=2)\n",
    "        for median in bp['medians']:\n",
    "            median.set(color='black', linewidth=2)\n",
    "\n",
    "        bp['boxes'][0].set(color='red', facecolor=lighten_color(\n",
    "            'red'), linewidth=2, alpha=0.5)\n",
    "        bp['boxes'][1].set(color='blue', facecolor=lighten_color(\n",
    "            'blue'), linewidth=2, alpha=0.5)\n",
    "\n",
    "        scatter = ax.scatter(x=np.random.normal(position-0.25, 0.05, size=len(earlyTumorValues)),\n",
    "                             y=earlyTumorValues, c='r', marker='.', edgecolors='', s=50, alpha=0.9, zorder=10)\n",
    "\n",
    "        scatter = ax.scatter(x=np.random.normal(position+0.25, 0.05, size=len(controlsBetaValues)),\n",
    "                             y=controlsBetaValues, c='b', marker='.', edgecolors='', s=50, alpha=0.9, zorder=10)\n",
    "\n",
    "        pval = ranksum(earlyTumorValues, controlsBetaValues)\n",
    "\n",
    "        if 0.01 <= pval < 0.05:\n",
    "            ax.text(x=position, y=1.0, s='*', fontsize=24)\n",
    "        if 0.001 <= pval < 0.01:\n",
    "            ax.text(x=position-0.10, y=1.0, s='**', fontsize=24)\n",
    "        if pval < 0.001:\n",
    "            ax.text(x=position-0.20, y=1.0, s='***', fontsize=24)\n",
    "        if pval >= 0.05:\n",
    "            ax.text(x=position-0.10, y=1.05, s='ns', fontsize=24)\n",
    "\n",
    "        ax.text(x=position-0.40, y=-0.35,\n",
    "                s='cases={}\\ncontrols={}'.format(numCases, numControls), fontsize=18)\n",
    "\n",
    "        position += 1.5\n",
    "        \n",
    "# -------------------------------------------------------------------------\n",
    "\n",
    "ax.axvline(x=1.75, color='k', linewidth=2)\n",
    "ax.axvline(x=3.25, color='k', linewidth=2)\n",
    "ax.axvline(x=4.75, color='k', linewidth=2)\n",
    "ax.axvline(x=6.25, color='k', linewidth=2)\n",
    "ax.axvline(x=7.75, color='k', linewidth=2)\n",
    "ax.axvline(x=9.25, color='k', linewidth=2)\n",
    "ax.axvline(x=10.75, color='k', linewidth=2)\n",
    "ax.axvline(x=12.25, color='k', linewidth=2)\n",
    "ax.axvline(x=13.75, color='k', linewidth=2)\n",
    "# ax.axvline(x=15.25, color='k', linewidth=2)\n",
    "# ax.axvline(x=16.75, color='k', linewidth=2)\n",
    "# ax.axvline(x=18.25, color='k', linewidth=2)\n",
    "# ax.axvline(x=19.75, color='k', linewidth=2)\n",
    "\n",
    "# -------------------------------------------------------------------------\n",
    "# axes labeling\n",
    "\n",
    "ax.set_xticks(x_label_positions)\n",
    "ax.set_xticklabels(labels, fontsize=20)\n",
    "\n",
    "ax.set_yticks([0, 0.2, 0.4, 0.6, 0.8, 1.0])\n",
    "ax.set_yticklabels([str(round(i, 1))\n",
    "                    for i in np.arange(0, 1.1, 0.2)], fontsize=24)\n",
    "\n",
    "ax.set_ylabel('beta value\\ncg21790626', fontsize=26)\n",
    "\n",
    "plt.title('Stage I Solid Tumors', fontsize=26)\n",
    "\n",
    "# plt.show()\n",
    "\n",
    "fig.savefig('Figure2.png',\n",
    "            bbox_inches='tight', pad_inches=0.5, dpi=600)"
   ]
  },
  {
   "cell_type": "markdown",
   "metadata": {
    "heading_collapsed": true
   },
   "source": [
    "# Figure 3 - ZNF154 methylation across ages and sex"
   ]
  },
  {
   "cell_type": "markdown",
   "metadata": {
    "heading_collapsed": true,
    "hidden": true
   },
   "source": [
    "## Paths to Peripheral Blood Beta Values and Information"
   ]
  },
  {
   "cell_type": "code",
   "execution_count": 20,
   "metadata": {
    "ExecuteTime": {
     "end_time": "2020-04-30T19:02:11.092581Z",
     "start_time": "2020-04-30T19:02:11.088992Z"
    },
    "hidden": true
   },
   "outputs": [],
   "source": [
    "peripheralBloodBetasPath = 'methylationArrayData/peripheralBlood/GSE55763_normalized_betas_ZNF154.txt'\n",
    "sampleInfoPath = 'methylationArrayData/peripheralBlood/GSE55763_series_matrix.txt'"
   ]
  },
  {
   "cell_type": "markdown",
   "metadata": {
    "heading_collapsed": true,
    "hidden": true
   },
   "source": [
    "## Data Processing"
   ]
  },
  {
   "cell_type": "code",
   "execution_count": 21,
   "metadata": {
    "ExecuteTime": {
     "end_time": "2020-04-30T19:02:11.397094Z",
     "start_time": "2020-04-30T19:02:11.095315Z"
    },
    "hidden": true
   },
   "outputs": [],
   "source": [
    "peripheralBetas = pd.read_csv(peripheralBloodBetasPath, index_col=0)"
   ]
  },
  {
   "cell_type": "code",
   "execution_count": 22,
   "metadata": {
    "ExecuteTime": {
     "end_time": "2020-04-30T19:02:12.018069Z",
     "start_time": "2020-04-30T19:02:11.399679Z"
    },
    "hidden": true
   },
   "outputs": [
    {
     "data": {
      "text/html": [
       "<div>\n",
       "<style scoped>\n",
       "    .dataframe tbody tr th:only-of-type {\n",
       "        vertical-align: middle;\n",
       "    }\n",
       "\n",
       "    .dataframe tbody tr th {\n",
       "        vertical-align: top;\n",
       "    }\n",
       "\n",
       "    .dataframe thead th {\n",
       "        text-align: right;\n",
       "    }\n",
       "</style>\n",
       "<table border=\"1\" class=\"dataframe\">\n",
       "  <thead>\n",
       "    <tr style=\"text-align: right;\">\n",
       "      <th></th>\n",
       "      <th>0</th>\n",
       "      <th>1</th>\n",
       "      <th>2</th>\n",
       "      <th>3</th>\n",
       "      <th>4</th>\n",
       "      <th>5</th>\n",
       "      <th>6</th>\n",
       "      <th>7</th>\n",
       "      <th>8</th>\n",
       "      <th>9</th>\n",
       "      <th>...</th>\n",
       "      <th>2702</th>\n",
       "      <th>2703</th>\n",
       "      <th>2704</th>\n",
       "      <th>2705</th>\n",
       "      <th>2706</th>\n",
       "      <th>2707</th>\n",
       "      <th>2708</th>\n",
       "      <th>2709</th>\n",
       "      <th>2710</th>\n",
       "      <th>2711</th>\n",
       "    </tr>\n",
       "  </thead>\n",
       "  <tbody>\n",
       "    <tr>\n",
       "      <td>0</td>\n",
       "      <td>!Sample_title</td>\n",
       "      <td>\"Peripheral blood, 7786915023_R02C02\"</td>\n",
       "      <td>\"Peripheral blood, 7786915135_R04C02\"</td>\n",
       "      <td>\"Peripheral blood, 7471147149_R06C01\"</td>\n",
       "      <td>\"Peripheral blood, 7786915035_R05C01\"</td>\n",
       "      <td>\"Peripheral blood, 7786923035_R01C01\"</td>\n",
       "      <td>\"Peripheral blood, 7471147072_R01C02\"</td>\n",
       "      <td>\"Peripheral blood, 7471147107_R05C02\"</td>\n",
       "      <td>\"Peripheral blood, 7786923028_R05C02\"</td>\n",
       "      <td>\"Peripheral blood, 7512560087_R03C01\"</td>\n",
       "      <td>...</td>\n",
       "      <td>\"Peripheral blood, 7796814021_R01C02\"</td>\n",
       "      <td>\"Peripheral blood, 7796814021_R02C01\"</td>\n",
       "      <td>\"Peripheral blood, 7796814021_R03C01\"</td>\n",
       "      <td>\"Peripheral blood, 7796814021_R03C02\"</td>\n",
       "      <td>\"Peripheral blood, 7796814021_R04C01\"</td>\n",
       "      <td>\"Peripheral blood, 7796814021_R04C02\"</td>\n",
       "      <td>\"Peripheral blood, 7796814021_R05C01\"</td>\n",
       "      <td>\"Peripheral blood, 7796814021_R05C02\"</td>\n",
       "      <td>\"Peripheral blood, 7796814021_R06C01\"</td>\n",
       "      <td>\"Peripheral blood, 7796814021_R06C02\"\\n</td>\n",
       "    </tr>\n",
       "    <tr>\n",
       "      <td>1</td>\n",
       "      <td>!Sample_characteristics_ch1</td>\n",
       "      <td>\"gender: M\"</td>\n",
       "      <td>\"gender: M\"</td>\n",
       "      <td>\"gender: M\"</td>\n",
       "      <td>\"gender: M\"</td>\n",
       "      <td>\"gender: M\"</td>\n",
       "      <td>\"gender: M\"</td>\n",
       "      <td>\"gender: M\"</td>\n",
       "      <td>\"gender: M\"</td>\n",
       "      <td>\"gender: M\"</td>\n",
       "      <td>...</td>\n",
       "      <td>\"gender: M\"</td>\n",
       "      <td>\"gender: M\"</td>\n",
       "      <td>\"gender: M\"</td>\n",
       "      <td>\"gender: F\"</td>\n",
       "      <td>\"gender: M\"</td>\n",
       "      <td>\"gender: M\"</td>\n",
       "      <td>\"gender: M\"</td>\n",
       "      <td>\"gender: F\"</td>\n",
       "      <td>\"gender: M\"</td>\n",
       "      <td>\"gender: F\"\\n</td>\n",
       "    </tr>\n",
       "    <tr>\n",
       "      <td>2</td>\n",
       "      <td>!Sample_characteristics_ch1</td>\n",
       "      <td>\"age: 57.9\"</td>\n",
       "      <td>\"age: 42\"</td>\n",
       "      <td>\"age: 47.4\"</td>\n",
       "      <td>\"age: 49.3\"</td>\n",
       "      <td>\"age: 52.5\"</td>\n",
       "      <td>\"age: 54.6\"</td>\n",
       "      <td>\"age: 59.7\"</td>\n",
       "      <td>\"age: 52.3\"</td>\n",
       "      <td>\"age: 60.3\"</td>\n",
       "      <td>...</td>\n",
       "      <td>\"age: 35.5\"</td>\n",
       "      <td>\"age: 35.9\"</td>\n",
       "      <td>\"age: 51.3\"</td>\n",
       "      <td>\"age: 45.3\"</td>\n",
       "      <td>\"age: 50.6\"</td>\n",
       "      <td>\"age: 52.7\"</td>\n",
       "      <td>\"age: 44.3\"</td>\n",
       "      <td>\"age: 46.4\"</td>\n",
       "      <td>\"age: 39.5\"</td>\n",
       "      <td>\"age: 52.5\"\\n</td>\n",
       "    </tr>\n",
       "  </tbody>\n",
       "</table>\n",
       "<p>3 rows × 2712 columns</p>\n",
       "</div>"
      ],
      "text/plain": [
       "                          0                                      1     \\\n",
       "0                !Sample_title  \"Peripheral blood, 7786915023_R02C02\"   \n",
       "1  !Sample_characteristics_ch1                            \"gender: M\"   \n",
       "2  !Sample_characteristics_ch1                            \"age: 57.9\"   \n",
       "\n",
       "                                    2     \\\n",
       "0  \"Peripheral blood, 7786915135_R04C02\"   \n",
       "1                            \"gender: M\"   \n",
       "2                              \"age: 42\"   \n",
       "\n",
       "                                    3     \\\n",
       "0  \"Peripheral blood, 7471147149_R06C01\"   \n",
       "1                            \"gender: M\"   \n",
       "2                            \"age: 47.4\"   \n",
       "\n",
       "                                    4     \\\n",
       "0  \"Peripheral blood, 7786915035_R05C01\"   \n",
       "1                            \"gender: M\"   \n",
       "2                            \"age: 49.3\"   \n",
       "\n",
       "                                    5     \\\n",
       "0  \"Peripheral blood, 7786923035_R01C01\"   \n",
       "1                            \"gender: M\"   \n",
       "2                            \"age: 52.5\"   \n",
       "\n",
       "                                    6     \\\n",
       "0  \"Peripheral blood, 7471147072_R01C02\"   \n",
       "1                            \"gender: M\"   \n",
       "2                            \"age: 54.6\"   \n",
       "\n",
       "                                    7     \\\n",
       "0  \"Peripheral blood, 7471147107_R05C02\"   \n",
       "1                            \"gender: M\"   \n",
       "2                            \"age: 59.7\"   \n",
       "\n",
       "                                    8     \\\n",
       "0  \"Peripheral blood, 7786923028_R05C02\"   \n",
       "1                            \"gender: M\"   \n",
       "2                            \"age: 52.3\"   \n",
       "\n",
       "                                    9     ...  \\\n",
       "0  \"Peripheral blood, 7512560087_R03C01\"  ...   \n",
       "1                            \"gender: M\"  ...   \n",
       "2                            \"age: 60.3\"  ...   \n",
       "\n",
       "                                    2702  \\\n",
       "0  \"Peripheral blood, 7796814021_R01C02\"   \n",
       "1                            \"gender: M\"   \n",
       "2                            \"age: 35.5\"   \n",
       "\n",
       "                                    2703  \\\n",
       "0  \"Peripheral blood, 7796814021_R02C01\"   \n",
       "1                            \"gender: M\"   \n",
       "2                            \"age: 35.9\"   \n",
       "\n",
       "                                    2704  \\\n",
       "0  \"Peripheral blood, 7796814021_R03C01\"   \n",
       "1                            \"gender: M\"   \n",
       "2                            \"age: 51.3\"   \n",
       "\n",
       "                                    2705  \\\n",
       "0  \"Peripheral blood, 7796814021_R03C02\"   \n",
       "1                            \"gender: F\"   \n",
       "2                            \"age: 45.3\"   \n",
       "\n",
       "                                    2706  \\\n",
       "0  \"Peripheral blood, 7796814021_R04C01\"   \n",
       "1                            \"gender: M\"   \n",
       "2                            \"age: 50.6\"   \n",
       "\n",
       "                                    2707  \\\n",
       "0  \"Peripheral blood, 7796814021_R04C02\"   \n",
       "1                            \"gender: M\"   \n",
       "2                            \"age: 52.7\"   \n",
       "\n",
       "                                    2708  \\\n",
       "0  \"Peripheral blood, 7796814021_R05C01\"   \n",
       "1                            \"gender: M\"   \n",
       "2                            \"age: 44.3\"   \n",
       "\n",
       "                                    2709  \\\n",
       "0  \"Peripheral blood, 7796814021_R05C02\"   \n",
       "1                            \"gender: F\"   \n",
       "2                            \"age: 46.4\"   \n",
       "\n",
       "                                    2710  \\\n",
       "0  \"Peripheral blood, 7796814021_R06C01\"   \n",
       "1                            \"gender: M\"   \n",
       "2                            \"age: 39.5\"   \n",
       "\n",
       "                                      2711  \n",
       "0  \"Peripheral blood, 7796814021_R06C02\"\\n  \n",
       "1                            \"gender: F\"\\n  \n",
       "2                            \"age: 52.5\"\\n  \n",
       "\n",
       "[3 rows x 2712 columns]"
      ]
     },
     "execution_count": 22,
     "metadata": {},
     "output_type": "execute_result"
    }
   ],
   "source": [
    "info = []\n",
    "with open(sampleInfoPath) as meta:\n",
    "    for line in meta:\n",
    "        if '!Sample_title' in line:\n",
    "            vals = line.split(\"\\t\")\n",
    "            info.append(vals)\n",
    "        if 'age:' in line:\n",
    "            vals = line.split(\"\\t\")\n",
    "            info.append(vals)\n",
    "        if 'gender' in line:\n",
    "            vals = line.split(\"\\t\")\n",
    "            info.append(vals)\n",
    "raw_info = pd.DataFrame(info)\n",
    "raw_info"
   ]
  },
  {
   "cell_type": "code",
   "execution_count": 23,
   "metadata": {
    "ExecuteTime": {
     "end_time": "2020-04-30T19:02:12.415170Z",
     "start_time": "2020-04-30T19:02:12.020523Z"
    },
    "hidden": true
   },
   "outputs": [],
   "source": [
    "gender = [i.split()[1][0] for i in raw_info.loc[1] if 'gender' in i]\n",
    "age = [float(i.split()[1][:-1]) for i in raw_info.loc[2] if 'age' in i]\n",
    "sample = [i.split()[2][:-1] for i in raw_info.loc[0] if 'Peripheral blood' in i]\n",
    "info = pd.DataFrame([age, gender], columns=sample, index=['age', 'gender'])"
   ]
  },
  {
   "cell_type": "code",
   "execution_count": 24,
   "metadata": {
    "ExecuteTime": {
     "end_time": "2020-04-30T19:02:12.422324Z",
     "start_time": "2020-04-30T19:02:12.417684Z"
    },
    "hidden": true
   },
   "outputs": [],
   "source": [
    "peripheralZNFbetas = peripheralBetas.loc['cg21790626'].to_frame()"
   ]
  },
  {
   "cell_type": "code",
   "execution_count": 25,
   "metadata": {
    "ExecuteTime": {
     "end_time": "2020-04-30T19:02:12.442935Z",
     "start_time": "2020-04-30T19:02:12.432949Z"
    },
    "hidden": true
   },
   "outputs": [],
   "source": [
    "peripheralZNFbetasInfo = pd.concat([info.T, peripheralZNFbetas], axis=1, sort=False)"
   ]
  },
  {
   "cell_type": "code",
   "execution_count": 26,
   "metadata": {
    "ExecuteTime": {
     "end_time": "2020-04-30T19:02:12.454207Z",
     "start_time": "2020-04-30T19:02:12.446186Z"
    },
    "hidden": true
   },
   "outputs": [],
   "source": [
    "males = peripheralZNFbetasInfo[peripheralZNFbetasInfo['gender'] == 'M']\n",
    "females = peripheralZNFbetasInfo[peripheralZNFbetasInfo['gender'] == 'F']"
   ]
  },
  {
   "cell_type": "code",
   "execution_count": 27,
   "metadata": {
    "ExecuteTime": {
     "end_time": "2020-04-30T19:02:12.473013Z",
     "start_time": "2020-04-30T19:02:12.456714Z"
    },
    "hidden": true
   },
   "outputs": [
    {
     "data": {
      "text/plain": [
       "[(50, 60], (40, 50], (40, 50], (40, 50], (50, 60], ..., (50, 60], (50, 60], (50, 60], (40, 50], (0, 40]]\n",
       "Length: 1840\n",
       "Categories (5, interval[int64]): [(0, 40] < (40, 50] < (50, 60] < (60, 70] < (70, 90]]"
      ]
     },
     "execution_count": 27,
     "metadata": {},
     "output_type": "execute_result"
    }
   ],
   "source": [
    "# age categories:\n",
    "maleAgeCategories = pd.cut(males['age'].values, [0,40, 50, 60, 70, 90])\n",
    "maleAgeCategories"
   ]
  },
  {
   "cell_type": "code",
   "execution_count": 28,
   "metadata": {
    "ExecuteTime": {
     "end_time": "2020-04-30T19:02:12.503355Z",
     "start_time": "2020-04-30T19:02:12.475369Z"
    },
    "hidden": true
   },
   "outputs": [
    {
     "name": "stderr",
     "output_type": "stream",
     "text": [
      "/Users/millerbf2/miniconda3/envs/py3/lib/python3.7/site-packages/ipykernel_launcher.py:1: SettingWithCopyWarning: \n",
      "A value is trying to be set on a copy of a slice from a DataFrame.\n",
      "Try using .loc[row_indexer,col_indexer] = value instead\n",
      "\n",
      "See the caveats in the documentation: http://pandas.pydata.org/pandas-docs/stable/user_guide/indexing.html#returning-a-view-versus-a-copy\n",
      "  \"\"\"Entry point for launching an IPython kernel.\n"
     ]
    },
    {
     "data": {
      "text/html": [
       "<div>\n",
       "<style scoped>\n",
       "    .dataframe tbody tr th:only-of-type {\n",
       "        vertical-align: middle;\n",
       "    }\n",
       "\n",
       "    .dataframe tbody tr th {\n",
       "        vertical-align: top;\n",
       "    }\n",
       "\n",
       "    .dataframe thead th {\n",
       "        text-align: right;\n",
       "    }\n",
       "</style>\n",
       "<table border=\"1\" class=\"dataframe\">\n",
       "  <thead>\n",
       "    <tr style=\"text-align: right;\">\n",
       "      <th></th>\n",
       "      <th>age</th>\n",
       "      <th>gender</th>\n",
       "      <th>cg21790626</th>\n",
       "      <th>Age</th>\n",
       "    </tr>\n",
       "  </thead>\n",
       "  <tbody>\n",
       "    <tr>\n",
       "      <td>7786915023_R02C02</td>\n",
       "      <td>57.9</td>\n",
       "      <td>M</td>\n",
       "      <td>0.086995</td>\n",
       "      <td>(50, 60]</td>\n",
       "    </tr>\n",
       "    <tr>\n",
       "      <td>7786915135_R04C02</td>\n",
       "      <td>42</td>\n",
       "      <td>M</td>\n",
       "      <td>0.093055</td>\n",
       "      <td>(40, 50]</td>\n",
       "    </tr>\n",
       "    <tr>\n",
       "      <td>7471147149_R06C01</td>\n",
       "      <td>47.4</td>\n",
       "      <td>M</td>\n",
       "      <td>0.019346</td>\n",
       "      <td>(40, 50]</td>\n",
       "    </tr>\n",
       "    <tr>\n",
       "      <td>7786915035_R05C01</td>\n",
       "      <td>49.3</td>\n",
       "      <td>M</td>\n",
       "      <td>0.075207</td>\n",
       "      <td>(40, 50]</td>\n",
       "    </tr>\n",
       "    <tr>\n",
       "      <td>7786923035_R01C01</td>\n",
       "      <td>52.5</td>\n",
       "      <td>M</td>\n",
       "      <td>0.029225</td>\n",
       "      <td>(50, 60]</td>\n",
       "    </tr>\n",
       "    <tr>\n",
       "      <td>...</td>\n",
       "      <td>...</td>\n",
       "      <td>...</td>\n",
       "      <td>...</td>\n",
       "      <td>...</td>\n",
       "    </tr>\n",
       "    <tr>\n",
       "      <td>7796814021_R03C01</td>\n",
       "      <td>51.3</td>\n",
       "      <td>M</td>\n",
       "      <td>0.028391</td>\n",
       "      <td>(50, 60]</td>\n",
       "    </tr>\n",
       "    <tr>\n",
       "      <td>7796814021_R04C01</td>\n",
       "      <td>50.6</td>\n",
       "      <td>M</td>\n",
       "      <td>0.056698</td>\n",
       "      <td>(50, 60]</td>\n",
       "    </tr>\n",
       "    <tr>\n",
       "      <td>7796814021_R04C02</td>\n",
       "      <td>52.7</td>\n",
       "      <td>M</td>\n",
       "      <td>0.060491</td>\n",
       "      <td>(50, 60]</td>\n",
       "    </tr>\n",
       "    <tr>\n",
       "      <td>7796814021_R05C01</td>\n",
       "      <td>44.3</td>\n",
       "      <td>M</td>\n",
       "      <td>0.060874</td>\n",
       "      <td>(40, 50]</td>\n",
       "    </tr>\n",
       "    <tr>\n",
       "      <td>7796814021_R06C01</td>\n",
       "      <td>39.5</td>\n",
       "      <td>M</td>\n",
       "      <td>0.025234</td>\n",
       "      <td>(0, 40]</td>\n",
       "    </tr>\n",
       "  </tbody>\n",
       "</table>\n",
       "<p>1840 rows × 4 columns</p>\n",
       "</div>"
      ],
      "text/plain": [
       "                    age gender  cg21790626       Age\n",
       "7786915023_R02C02  57.9      M    0.086995  (50, 60]\n",
       "7786915135_R04C02    42      M    0.093055  (40, 50]\n",
       "7471147149_R06C01  47.4      M    0.019346  (40, 50]\n",
       "7786915035_R05C01  49.3      M    0.075207  (40, 50]\n",
       "7786923035_R01C01  52.5      M    0.029225  (50, 60]\n",
       "...                 ...    ...         ...       ...\n",
       "7796814021_R03C01  51.3      M    0.028391  (50, 60]\n",
       "7796814021_R04C01  50.6      M    0.056698  (50, 60]\n",
       "7796814021_R04C02  52.7      M    0.060491  (50, 60]\n",
       "7796814021_R05C01  44.3      M    0.060874  (40, 50]\n",
       "7796814021_R06C01  39.5      M    0.025234   (0, 40]\n",
       "\n",
       "[1840 rows x 4 columns]"
      ]
     },
     "execution_count": 28,
     "metadata": {},
     "output_type": "execute_result"
    }
   ],
   "source": [
    "males['Age'] = maleAgeCategories\n",
    "males"
   ]
  },
  {
   "cell_type": "code",
   "execution_count": 29,
   "metadata": {
    "ExecuteTime": {
     "end_time": "2020-04-30T19:02:12.536835Z",
     "start_time": "2020-04-30T19:02:12.505938Z"
    },
    "hidden": true
   },
   "outputs": [
    {
     "name": "stderr",
     "output_type": "stream",
     "text": [
      "/Users/millerbf2/miniconda3/envs/py3/lib/python3.7/site-packages/ipykernel_launcher.py:2: SettingWithCopyWarning: \n",
      "A value is trying to be set on a copy of a slice from a DataFrame.\n",
      "Try using .loc[row_indexer,col_indexer] = value instead\n",
      "\n",
      "See the caveats in the documentation: http://pandas.pydata.org/pandas-docs/stable/user_guide/indexing.html#returning-a-view-versus-a-copy\n",
      "  \n"
     ]
    },
    {
     "data": {
      "text/html": [
       "<div>\n",
       "<style scoped>\n",
       "    .dataframe tbody tr th:only-of-type {\n",
       "        vertical-align: middle;\n",
       "    }\n",
       "\n",
       "    .dataframe tbody tr th {\n",
       "        vertical-align: top;\n",
       "    }\n",
       "\n",
       "    .dataframe thead th {\n",
       "        text-align: right;\n",
       "    }\n",
       "</style>\n",
       "<table border=\"1\" class=\"dataframe\">\n",
       "  <thead>\n",
       "    <tr style=\"text-align: right;\">\n",
       "      <th></th>\n",
       "      <th>age</th>\n",
       "      <th>gender</th>\n",
       "      <th>cg21790626</th>\n",
       "      <th>Age</th>\n",
       "    </tr>\n",
       "  </thead>\n",
       "  <tbody>\n",
       "    <tr>\n",
       "      <td>7796814020_R04C02</td>\n",
       "      <td>58</td>\n",
       "      <td>F</td>\n",
       "      <td>0.070233</td>\n",
       "      <td>(50, 60]</td>\n",
       "    </tr>\n",
       "    <tr>\n",
       "      <td>7507875153_R03C02</td>\n",
       "      <td>63.7</td>\n",
       "      <td>F</td>\n",
       "      <td>0.050497</td>\n",
       "      <td>(60, 70]</td>\n",
       "    </tr>\n",
       "    <tr>\n",
       "      <td>7471147034_R03C01</td>\n",
       "      <td>52</td>\n",
       "      <td>F</td>\n",
       "      <td>0.043214</td>\n",
       "      <td>(50, 60]</td>\n",
       "    </tr>\n",
       "    <tr>\n",
       "      <td>7471147081_R06C01</td>\n",
       "      <td>43</td>\n",
       "      <td>F</td>\n",
       "      <td>0.020730</td>\n",
       "      <td>(40, 50]</td>\n",
       "    </tr>\n",
       "    <tr>\n",
       "      <td>7471147089_R06C01</td>\n",
       "      <td>55.8</td>\n",
       "      <td>F</td>\n",
       "      <td>0.026892</td>\n",
       "      <td>(50, 60]</td>\n",
       "    </tr>\n",
       "    <tr>\n",
       "      <td>...</td>\n",
       "      <td>...</td>\n",
       "      <td>...</td>\n",
       "      <td>...</td>\n",
       "      <td>...</td>\n",
       "    </tr>\n",
       "    <tr>\n",
       "      <td>7796814020_R06C01</td>\n",
       "      <td>63.9</td>\n",
       "      <td>F</td>\n",
       "      <td>0.105840</td>\n",
       "      <td>(60, 70]</td>\n",
       "    </tr>\n",
       "    <tr>\n",
       "      <td>7796814021_R01C01</td>\n",
       "      <td>35.2</td>\n",
       "      <td>F</td>\n",
       "      <td>0.016334</td>\n",
       "      <td>(0, 40]</td>\n",
       "    </tr>\n",
       "    <tr>\n",
       "      <td>7796814021_R03C02</td>\n",
       "      <td>45.3</td>\n",
       "      <td>F</td>\n",
       "      <td>0.021604</td>\n",
       "      <td>(40, 50]</td>\n",
       "    </tr>\n",
       "    <tr>\n",
       "      <td>7796814021_R05C02</td>\n",
       "      <td>46.4</td>\n",
       "      <td>F</td>\n",
       "      <td>0.038923</td>\n",
       "      <td>(40, 50]</td>\n",
       "    </tr>\n",
       "    <tr>\n",
       "      <td>7796814021_R06C02</td>\n",
       "      <td>52.5</td>\n",
       "      <td>F</td>\n",
       "      <td>0.060592</td>\n",
       "      <td>(50, 60]</td>\n",
       "    </tr>\n",
       "  </tbody>\n",
       "</table>\n",
       "<p>871 rows × 4 columns</p>\n",
       "</div>"
      ],
      "text/plain": [
       "                    age gender  cg21790626       Age\n",
       "7796814020_R04C02    58      F    0.070233  (50, 60]\n",
       "7507875153_R03C02  63.7      F    0.050497  (60, 70]\n",
       "7471147034_R03C01    52      F    0.043214  (50, 60]\n",
       "7471147081_R06C01    43      F    0.020730  (40, 50]\n",
       "7471147089_R06C01  55.8      F    0.026892  (50, 60]\n",
       "...                 ...    ...         ...       ...\n",
       "7796814020_R06C01  63.9      F    0.105840  (60, 70]\n",
       "7796814021_R01C01  35.2      F    0.016334   (0, 40]\n",
       "7796814021_R03C02  45.3      F    0.021604  (40, 50]\n",
       "7796814021_R05C02  46.4      F    0.038923  (40, 50]\n",
       "7796814021_R06C02  52.5      F    0.060592  (50, 60]\n",
       "\n",
       "[871 rows x 4 columns]"
      ]
     },
     "execution_count": 29,
     "metadata": {},
     "output_type": "execute_result"
    }
   ],
   "source": [
    "femaleAgeCategories = pd.cut(females['age'].values, [0,40, 50, 60, 70, 90])\n",
    "females['Age'] = femaleAgeCategories\n",
    "females"
   ]
  },
  {
   "cell_type": "markdown",
   "metadata": {
    "heading_collapsed": true,
    "hidden": true
   },
   "source": [
    "## Plotting"
   ]
  },
  {
   "cell_type": "code",
   "execution_count": 30,
   "metadata": {
    "ExecuteTime": {
     "end_time": "2020-04-30T19:02:12.558766Z",
     "start_time": "2020-04-30T19:02:12.539494Z"
    },
    "hidden": true
   },
   "outputs": [],
   "source": [
    "def peripheralBloodAgePlot(processedData, label):\n",
    "    \n",
    "    fig, ax = plt.subplots(figsize=(8,5))\n",
    "\n",
    "    bp = processedData.boxplot(column='cg21790626', by='Age', ax=ax,\n",
    "                       boxprops=dict(linestyle='-', linewidth=2),\n",
    "                       medianprops=dict(linestyle='-', linewidth=2),\n",
    "                       whiskerprops=dict(linestyle='-', linewidth=2),\n",
    "                       capprops=dict(linestyle='-', linewidth=2),\n",
    "                       showfliers=True, return_type='dict', patch_artist=True, )\n",
    "\n",
    "    [[item.set_color('k') for item in bp[key]['boxes']] for key in bp.keys()]\n",
    "    [[item.set_color('w') for item in bp[key]['medians']] for key in bp.keys()]\n",
    "    [[item.set_markerfacecolor('k') for item in bp[key]['means']] for key in bp.keys()]\n",
    "    [[item.set_color('k') for item in bp[key]['whiskers']] for key in bp.keys()]\n",
    "    [[item.set_color('k') for item in bp[key]['caps']] for key in bp.keys()]\n",
    "    # [[item.set_color('k') for item in bp[key]['fliers']] for key in bp.keys()]\n",
    "\n",
    "\n",
    "\n",
    "    plt.suptitle(\"\")\n",
    "    plt.ylim(0,1.05)\n",
    "    plt.title(label + ' (n={})'.format(processedData.shape[0]), fontsize=24)\n",
    "    plt.xlabel('Age', fontsize=24, labelpad=30)\n",
    "    plt.ylabel('beta value\\ncg21790626', fontsize=24)\n",
    "    plt.yticks(fontsize=18)\n",
    "    plt.xticks(fontsize=18)\n",
    "\n",
    "\n",
    "    pos = 1\n",
    "    for g, d in processedData.groupby('Age'):\n",
    "        ax.text(x=pos-0.22, y=0.25, s='n={}'.format(d.shape[0]), fontsize=18)\n",
    "        pos +=1\n",
    "        \n",
    "    return plt"
   ]
  },
  {
   "cell_type": "code",
   "execution_count": 31,
   "metadata": {
    "ExecuteTime": {
     "end_time": "2020-04-30T19:02:15.267083Z",
     "start_time": "2020-04-30T19:02:12.561288Z"
    },
    "hidden": true
   },
   "outputs": [
    {
     "data": {
      "image/png": "[encoded data removed]",
      "text/plain": [
       "<Figure size 576x360 with 1 Axes>"
      ]
     },
     "metadata": {
      "needs_background": "light"
     },
     "output_type": "display_data"
    }
   ],
   "source": [
    "femaleAgePlot = peripheralBloodAgePlot(females, 'Females')\n",
    "# femaleAgePlot.show()\n",
    "\n",
    "femaleAgePlot.savefig('Figure3_females.png',\n",
    "            bbox_inches='tight', pad_inches=0.2, dpi=600)"
   ]
  },
  {
   "cell_type": "code",
   "execution_count": 32,
   "metadata": {
    "ExecuteTime": {
     "end_time": "2020-04-30T19:02:18.035505Z",
     "start_time": "2020-04-30T19:02:15.269047Z"
    },
    "hidden": true
   },
   "outputs": [
    {
     "data": {
      "image/png": "[encoded data removed]",
      "text/plain": [
       "<Figure size 576x360 with 1 Axes>"
      ]
     },
     "metadata": {
      "needs_background": "light"
     },
     "output_type": "display_data"
    }
   ],
   "source": [
    "maleAgePlot = peripheralBloodAgePlot(males, 'Males')\n",
    "# maleAgePlot.show()\n",
    "\n",
    "maleAgePlot.savefig('Figure3_males.png',\n",
    "            bbox_inches='tight', pad_inches=0.2, dpi=600)"
   ]
  },
  {
   "cell_type": "markdown",
   "metadata": {
    "heading_collapsed": true
   },
   "source": [
    "# Figure 4 - Noncancer diseases"
   ]
  },
  {
   "cell_type": "markdown",
   "metadata": {
    "heading_collapsed": true,
    "hidden": true
   },
   "source": [
    "## Path to Beta Values"
   ]
  },
  {
   "cell_type": "code",
   "execution_count": 33,
   "metadata": {
    "ExecuteTime": {
     "end_time": "2020-04-30T19:02:18.041104Z",
     "start_time": "2020-04-30T19:02:18.037932Z"
    },
    "hidden": true
   },
   "outputs": [],
   "source": [
    "noncancerBetasPath = 'methylationArrayData/nonCancerDiseases/noncancer_disease_samples_beta_values.csv'"
   ]
  },
  {
   "cell_type": "code",
   "execution_count": 34,
   "metadata": {
    "ExecuteTime": {
     "end_time": "2020-04-30T19:02:18.048505Z",
     "start_time": "2020-04-30T19:02:18.044413Z"
    },
    "hidden": true
   },
   "outputs": [],
   "source": [
    "study_order = ['GSE32148', 'GSE85566', 'PMID24603685',\n",
    "               'GSE87621', 'GSE49542', 'GSE50874']"
   ]
  },
  {
   "cell_type": "markdown",
   "metadata": {
    "heading_collapsed": true,
    "hidden": true
   },
   "source": [
    "## Processing"
   ]
  },
  {
   "cell_type": "code",
   "execution_count": 35,
   "metadata": {
    "ExecuteTime": {
     "end_time": "2020-04-30T19:02:18.089365Z",
     "start_time": "2020-04-30T19:02:18.052386Z"
    },
    "hidden": true
   },
   "outputs": [
    {
     "data": {
      "text/html": [
       "<div>\n",
       "<style scoped>\n",
       "    .dataframe tbody tr th:only-of-type {\n",
       "        vertical-align: middle;\n",
       "    }\n",
       "\n",
       "    .dataframe tbody tr th {\n",
       "        vertical-align: top;\n",
       "    }\n",
       "\n",
       "    .dataframe thead th {\n",
       "        text-align: right;\n",
       "    }\n",
       "</style>\n",
       "<table border=\"1\" class=\"dataframe\">\n",
       "  <thead>\n",
       "    <tr style=\"text-align: right;\">\n",
       "      <th></th>\n",
       "      <th>sample</th>\n",
       "      <th>Characteristic</th>\n",
       "      <th>cg21790626</th>\n",
       "      <th>study</th>\n",
       "      <th>tissue</th>\n",
       "      <th>notes</th>\n",
       "    </tr>\n",
       "  </thead>\n",
       "  <tbody>\n",
       "    <tr>\n",
       "      <td>0</td>\n",
       "      <td>GSM796660</td>\n",
       "      <td>Crohn's disease</td>\n",
       "      <td>0.033700</td>\n",
       "      <td>GSE32148</td>\n",
       "      <td>peripheral blood</td>\n",
       "      <td>NaN</td>\n",
       "    </tr>\n",
       "    <tr>\n",
       "      <td>1</td>\n",
       "      <td>GSM796663</td>\n",
       "      <td>Crohn's disease</td>\n",
       "      <td>0.021980</td>\n",
       "      <td>GSE32148</td>\n",
       "      <td>peripheral blood</td>\n",
       "      <td>NaN</td>\n",
       "    </tr>\n",
       "    <tr>\n",
       "      <td>2</td>\n",
       "      <td>GSM796664</td>\n",
       "      <td>Crohn's disease</td>\n",
       "      <td>0.051620</td>\n",
       "      <td>GSE32148</td>\n",
       "      <td>peripheral blood</td>\n",
       "      <td>NaN</td>\n",
       "    </tr>\n",
       "    <tr>\n",
       "      <td>3</td>\n",
       "      <td>GSM796680</td>\n",
       "      <td>Crohn's disease</td>\n",
       "      <td>0.025960</td>\n",
       "      <td>GSE32148</td>\n",
       "      <td>peripheral blood</td>\n",
       "      <td>NaN</td>\n",
       "    </tr>\n",
       "    <tr>\n",
       "      <td>4</td>\n",
       "      <td>GSM796681</td>\n",
       "      <td>Crohn's disease</td>\n",
       "      <td>0.016670</td>\n",
       "      <td>GSE32148</td>\n",
       "      <td>peripheral blood</td>\n",
       "      <td>NaN</td>\n",
       "    </tr>\n",
       "    <tr>\n",
       "      <td>...</td>\n",
       "      <td>...</td>\n",
       "      <td>...</td>\n",
       "      <td>...</td>\n",
       "      <td>...</td>\n",
       "      <td>...</td>\n",
       "      <td>...</td>\n",
       "    </tr>\n",
       "    <tr>\n",
       "      <td>360</td>\n",
       "      <td>PMID24603685</td>\n",
       "      <td>Controls</td>\n",
       "      <td>0.037745</td>\n",
       "      <td>PMID24603685</td>\n",
       "      <td>panreatic islet cels</td>\n",
       "      <td>NaN</td>\n",
       "    </tr>\n",
       "    <tr>\n",
       "      <td>361</td>\n",
       "      <td>PMID24603685</td>\n",
       "      <td>Controls</td>\n",
       "      <td>0.014935</td>\n",
       "      <td>PMID24603685</td>\n",
       "      <td>panreatic islet cels</td>\n",
       "      <td>NaN</td>\n",
       "    </tr>\n",
       "    <tr>\n",
       "      <td>362</td>\n",
       "      <td>PMID24603685</td>\n",
       "      <td>Controls</td>\n",
       "      <td>0.010761</td>\n",
       "      <td>PMID24603685</td>\n",
       "      <td>panreatic islet cels</td>\n",
       "      <td>NaN</td>\n",
       "    </tr>\n",
       "    <tr>\n",
       "      <td>363</td>\n",
       "      <td>PMID24603685</td>\n",
       "      <td>Controls</td>\n",
       "      <td>0.025650</td>\n",
       "      <td>PMID24603685</td>\n",
       "      <td>panreatic islet cels</td>\n",
       "      <td>NaN</td>\n",
       "    </tr>\n",
       "    <tr>\n",
       "      <td>364</td>\n",
       "      <td>PMID24603685</td>\n",
       "      <td>Controls</td>\n",
       "      <td>0.015236</td>\n",
       "      <td>PMID24603685</td>\n",
       "      <td>panreatic islet cels</td>\n",
       "      <td>NaN</td>\n",
       "    </tr>\n",
       "  </tbody>\n",
       "</table>\n",
       "<p>365 rows × 6 columns</p>\n",
       "</div>"
      ],
      "text/plain": [
       "           sample   Characteristic  cg21790626         study  \\\n",
       "0       GSM796660  Crohn's disease    0.033700      GSE32148   \n",
       "1       GSM796663  Crohn's disease    0.021980      GSE32148   \n",
       "2       GSM796664  Crohn's disease    0.051620      GSE32148   \n",
       "3       GSM796680  Crohn's disease    0.025960      GSE32148   \n",
       "4       GSM796681  Crohn's disease    0.016670      GSE32148   \n",
       "..            ...              ...         ...           ...   \n",
       "360  PMID24603685         Controls    0.037745  PMID24603685   \n",
       "361  PMID24603685         Controls    0.014935  PMID24603685   \n",
       "362  PMID24603685         Controls    0.010761  PMID24603685   \n",
       "363  PMID24603685         Controls    0.025650  PMID24603685   \n",
       "364  PMID24603685         Controls    0.015236  PMID24603685   \n",
       "\n",
       "                   tissue notes  \n",
       "0        peripheral blood   NaN  \n",
       "1        peripheral blood   NaN  \n",
       "2        peripheral blood   NaN  \n",
       "3        peripheral blood   NaN  \n",
       "4        peripheral blood   NaN  \n",
       "..                    ...   ...  \n",
       "360  panreatic islet cels   NaN  \n",
       "361  panreatic islet cels   NaN  \n",
       "362  panreatic islet cels   NaN  \n",
       "363  panreatic islet cels   NaN  \n",
       "364  panreatic islet cels   NaN  \n",
       "\n",
       "[365 rows x 6 columns]"
      ]
     },
     "execution_count": 35,
     "metadata": {},
     "output_type": "execute_result"
    }
   ],
   "source": [
    "noncancerBetas = pd.read_csv(noncancerBetasPath)\n",
    "noncancerBetas"
   ]
  },
  {
   "cell_type": "code",
   "execution_count": 36,
   "metadata": {
    "ExecuteTime": {
     "end_time": "2020-04-30T19:02:18.161010Z",
     "start_time": "2020-04-30T19:02:18.092105Z"
    },
    "hidden": true
   },
   "outputs": [],
   "source": [
    "vals = []\n",
    "positions = []\n",
    "colors = []\n",
    "labels = []\n",
    "\n",
    "#--------------------------------\n",
    "blood_controls = noncancerBetas[(noncancerBetas['study'] == 'GSE32148') & (\n",
    "    noncancerBetas['Characteristic'] == 'Controls')]['cg21790626'].values.tolist()\n",
    "vals.append(blood_controls)\n",
    "positions.append(1)\n",
    "colors.append('blue')\n",
    "labels.append('Controls')\n",
    "\n",
    "blood_crohns = noncancerBetas[(noncancerBetas['study'] == 'GSE32148') & (\n",
    "    noncancerBetas['Characteristic'] == \"Crohn's disease\")]['cg21790626'].values.tolist()\n",
    "vals.append(blood_crohns)\n",
    "positions.append(2)\n",
    "colors.append('red')\n",
    "labels.append(\"Crohn's disease\")\n",
    "\n",
    "blood_colitis = noncancerBetas[(noncancerBetas['study'] == 'GSE32148') & (\n",
    "    noncancerBetas['Characteristic'] == \"Ulcerative colitis\")]['cg21790626'].values.tolist()\n",
    "vals.append(blood_colitis)\n",
    "positions.append(3)\n",
    "colors.append('red')\n",
    "labels.append(\"Ulcerative colitis\")\n",
    "\n",
    "#--------------------------------\n",
    "asthma_control = noncancerBetas[(noncancerBetas['study'] == 'GSE85566') & (\n",
    "    noncancerBetas['Characteristic'] == \"Controls\")]['cg21790626'].values.tolist()\n",
    "vals.append(asthma_control)\n",
    "positions.append(4.5)\n",
    "colors.append('blue')\n",
    "labels.append(\"Controls\")\n",
    "\n",
    "asthma = noncancerBetas[(noncancerBetas['study'] == 'GSE85566') & (\n",
    "    noncancerBetas['Characteristic'] == \"Asthma\")]['cg21790626'].values.tolist()\n",
    "vals.append(asthma)\n",
    "positions.append(5.5)\n",
    "colors.append('red')\n",
    "labels.append(\"Asthma\")\n",
    "\n",
    "#--------------------------------\n",
    "t2d_control = noncancerBetas[(noncancerBetas['study'] == 'PMID24603685') & (\n",
    "    noncancerBetas['Characteristic'] == \"Controls\")]['cg21790626'].values.tolist()\n",
    "vals.append(t2d_control)\n",
    "positions.append(7)\n",
    "colors.append('blue')\n",
    "labels.append(\"Controls\")\n",
    "\n",
    "t2d = noncancerBetas[(noncancerBetas['study'] == 'PMID24603685') & (\n",
    "    noncancerBetas['Characteristic'] == \"Type 2 Diabetes\")]['cg21790626'].values.tolist()\n",
    "vals.append(t2d)\n",
    "positions.append(8)\n",
    "colors.append('red')\n",
    "labels.append(\"Type 2 Diabetes\")\n",
    "\n",
    "#--------------------------------\n",
    "endometrial_control = noncancerBetas[(noncancerBetas['study'] == 'GSE87621') & (\n",
    "    noncancerBetas['Characteristic'] == \"Controls\")]['cg21790626'].values.tolist()\n",
    "vals.append(endometrial_control)\n",
    "positions.append(9.5)\n",
    "colors.append('blue')\n",
    "labels.append(\"Controls\")\n",
    "\n",
    "endometriosis = noncancerBetas[(noncancerBetas['study'] == 'GSE87621') & (\n",
    "    noncancerBetas['Characteristic'] == \"Endometriosis\")]['cg21790626'].values.tolist()\n",
    "vals.append(endometriosis)\n",
    "positions.append(10.5)\n",
    "colors.append('red')\n",
    "labels.append(\"Endometriosis\")\n",
    "\n",
    "#--------------------------------\n",
    "nafld_mild = noncancerBetas[(noncancerBetas['study'] == 'GSE49542') & (\n",
    "    noncancerBetas['Characteristic'] == \"NAFLD, Mild\")]['cg21790626'].values.tolist()\n",
    "vals.append(nafld_mild)\n",
    "positions.append(12)\n",
    "colors.append('red')\n",
    "labels.append(\"NAFLD, Mild\")\n",
    "\n",
    "nafld_adv = noncancerBetas[(noncancerBetas['study'] == 'GSE49542') & (\n",
    "    noncancerBetas['Characteristic'] == \"NAFLD, Adv.\")]['cg21790626'].values.tolist()\n",
    "vals.append(nafld_adv)\n",
    "positions.append(13)\n",
    "colors.append('red')\n",
    "labels.append(\"NAFLD, Adv.\")\n",
    "\n",
    "#--------------------------------\n",
    "kidney = noncancerBetas[(noncancerBetas['study'] == 'GSE50874') & (\n",
    "    noncancerBetas['Characteristic'] == \"Kidney Fibrosis\")]['cg21790626'].values.tolist()\n",
    "vals.append(kidney)\n",
    "positions.append(14.5)\n",
    "colors.append('red')\n",
    "labels.append(\"Kidney Fibrosis\")"
   ]
  },
  {
   "cell_type": "markdown",
   "metadata": {
    "heading_collapsed": true,
    "hidden": true
   },
   "source": [
    "## Plotting"
   ]
  },
  {
   "cell_type": "code",
   "execution_count": 37,
   "metadata": {
    "ExecuteTime": {
     "end_time": "2020-04-30T19:02:23.760891Z",
     "start_time": "2020-04-30T19:02:18.167858Z"
    },
    "hidden": true
   },
   "outputs": [
    {
     "data": {
      "image/png": "[encoded data removed]",
      "text/plain": [
       "<Figure size 1080x288 with 1 Axes>"
      ]
     },
     "metadata": {
      "needs_background": "light"
     },
     "output_type": "display_data"
    }
   ],
   "source": [
    "fig, ax = plt.subplots(figsize=(15, 4))\n",
    "\n",
    "ylimit = 1.10\n",
    "maxVal = 1.05\n",
    "ax.set_ylim([0, ylimit])\n",
    "\n",
    "bp = ax.boxplot(vals, positions=positions,\n",
    "                widths=0.6, patch_artist=True)\n",
    "\n",
    "for flier in bp['fliers']:\n",
    "    flier.set(marker='', color='black')\n",
    "for whisker in bp['whiskers']:\n",
    "    whisker.set(color='black', linewidth=2)\n",
    "for cap in bp['caps']:\n",
    "    cap.set(color='black', linewidth=2)\n",
    "for median in bp['medians']:\n",
    "    median.set(color='black', linewidth=2)\n",
    "    \n",
    "for idx in np.arange(len(vals)):\n",
    "    \n",
    "    c = colors[idx]\n",
    "    \n",
    "    bp['boxes'][idx].set(color=c, facecolor=lighten_color(\n",
    "        c), linewidth=2, alpha=0.5)\n",
    "    scatter = ax.scatter(x=np.random.normal(positions[idx], 0.05, size=len(\n",
    "        vals[idx])), y=vals[idx], c=[c], marker='.', edgecolors='', s=50, alpha=0.9, zorder=10)\n",
    "    \n",
    "    ax.text(x=positions[idx]-0.26, y=-0.8,\n",
    "            s='n={}'.format(len(vals[idx])), fontsize=14)\n",
    "\n",
    "ax.set_xticks(positions)\n",
    "ax.set_xticklabels(labels, fontsize=16, rotation=45)\n",
    "\n",
    "ax.set_yticks([0, 0.2, 0.4, 0.6, 0.8, 1.0])\n",
    "ax.set_yticklabels([str(round(i, 1))\n",
    "                    for i in np.arange(0, 1.1, 0.2)], fontsize=20)\n",
    "ax.set_ylabel('beta value\\ncg21790626', fontsize=24)\n",
    "\n",
    "ax.axvline(x=3.75, ymin=0, ymax=1.1, color='k', linewidth=2)\n",
    "ax.axvline(x=6.25, ymin=0, ymax=1.1, color='k', linewidth=2)\n",
    "ax.axvline(x=8.75, ymin=0, ymax=1.1, color='k', linewidth=2)\n",
    "ax.axvline(x=11.25, ymin=0, ymax=1.1, color='k', linewidth=2)\n",
    "ax.axvline(x=13.75, ymin=0, ymax=1.1, color='k', linewidth=2)\n",
    "\n",
    "# mpl.rcParams['axes.linewidth'] = 2 #set the value globally\n",
    "\n",
    "#--------------------------------\n",
    "pval = ranksum(blood_controls, blood_crohns)\n",
    "if 0.01 <= pval < 0.05:\n",
    "    ax.text(x=1, y=1.15, s='*', fontsize=24)\n",
    "if 0.001 <= pval < 0.01:\n",
    "    ax.text(x=1, y=1.15, s='**', fontsize=24)\n",
    "if pval < 0.001:\n",
    "    ax.text(x=1, y=1.15, s='***', fontsize=24)\n",
    "if pval >= 0.05:\n",
    "    ax.text(x=1.8, y=1.15, s='ns', fontsize=24)\n",
    "    \n",
    "pval = ranksum(blood_controls, blood_colitis)\n",
    "if 0.01 <= pval < 0.05:\n",
    "    ax.text(x=3, y=1.15, s='*', fontsize=24)\n",
    "if 0.001 <= pval < 0.01:\n",
    "    ax.text(x=3, y=1.15, s='**', fontsize=24)\n",
    "if pval < 0.001:\n",
    "    ax.text(x=3, y=1.15, s='***', fontsize=24)\n",
    "if pval >= 0.05:\n",
    "    ax.text(x=2.8, y=1.15, s='ns', fontsize=24)\n",
    "    \n",
    "#--------------------------------\n",
    "pval = ranksum(asthma_control, asthma)\n",
    "if 0.01 <= pval < 0.05:\n",
    "    ax.text(x=5.5, y=1.12, s='*', fontsize=24)\n",
    "if 0.001 <= pval < 0.01:\n",
    "    ax.text(x=5.5, y=1.12, s='**', fontsize=24)\n",
    "if pval < 0.001:\n",
    "    ax.text(x=5.3, y=1.12, s='***', fontsize=24)\n",
    "if pval >= 0.05:\n",
    "    ax.text(x=5.8, y=1.15, s='ns', fontsize=24)\n",
    "    \n",
    "#--------------------------------\n",
    "pval = ranksum(t2d_control, t2d)\n",
    "if 0.01 <= pval < 0.05:\n",
    "    ax.text(x=7.95, y=1.12, s='*', fontsize=24)\n",
    "if 0.001 <= pval < 0.01:\n",
    "    ax.text(x=7.95, y=1.12, s='**', fontsize=24)\n",
    "if pval < 0.001:\n",
    "    ax.text(x=7.95, y=1.12, s='***', fontsize=24)\n",
    "if pval >= 0.05:\n",
    "    ax.text(x=8.2, y=1.15, s='ns', fontsize=24)\n",
    "\n",
    "#--------------------------------\n",
    "pval = ranksum(endometrial_control, endometriosis)\n",
    "if 0.01 <= pval < 0.05:\n",
    "    ax.text(x=10.5, y=1.12, s='*', fontsize=24)\n",
    "if 0.001 <= pval < 0.01:\n",
    "    ax.text(x=10.5, y=1.12, s='**', fontsize=24)\n",
    "if pval < 0.001:\n",
    "    ax.text(x=10.5, y=1.12, s='***', fontsize=24)\n",
    "if pval >= 0.05:\n",
    "    ax.text(x=10.3, y=1.15, s='ns', fontsize=24)\n",
    "\n",
    "\n",
    "\n",
    "# plt.title('Noncancer conditions', fontsize=16, y=1.05)\n",
    "plt.grid()\n",
    "\n",
    "# plt.show()\n",
    "\n",
    "fig.savefig('Figure4.png',\n",
    "            bbox_inches='tight', pad_inches=0.5, dpi=600)"
   ]
  },
  {
   "cell_type": "markdown",
   "metadata": {
    "heading_collapsed": true
   },
   "source": [
    "# Figure 5 - Methylated ZNF154 copies per mL classification"
   ]
  },
  {
   "cell_type": "markdown",
   "metadata": {
    "heading_collapsed": true,
    "hidden": true
   },
   "source": [
    "## Paths to data"
   ]
  },
  {
   "cell_type": "code",
   "execution_count": 38,
   "metadata": {
    "ExecuteTime": {
     "end_time": "2020-04-30T19:02:23.801488Z",
     "start_time": "2020-04-30T19:02:23.764075Z"
    },
    "hidden": true
   },
   "outputs": [],
   "source": [
    "ovarianCountsMD0raw = pd.read_csv(\n",
    "    \"plasma/ovarianNormalizedMethylatedZNFCounts.csv\")\n",
    "ovarianReadCountsMD0 = ovarianCountsMD0raw['cases'].dropna().values.tolist()\n",
    "controlsReadCountsMD0 = ovarianCountsMD0raw['controls'].dropna().values.tolist()\n",
    "\n",
    "pancreasLateCountsMD0raw = pd.read_csv(\n",
    "    \"plasma/pancreasLateNormalizedMethylatedZNFCounts.csv\")\n",
    "pancreasLateReadCountsMD0 = pancreasLateCountsMD0raw['cases'].dropna().values.tolist()\n",
    "\n",
    "pancreasEarlyCountsMD0raw = pd.read_csv(\n",
    "    \"plasma/pancreasEarlyNormalizedMethylatedZNFCounts.csv\")\n",
    "pancreasEarlyReadCountsMD0 = pancreasEarlyCountsMD0raw['cases'].dropna().values.tolist()\n",
    "\n",
    "liverCountsMD0raw = pd.read_csv(\n",
    "    \"plasma/liverNormalizedMethylatedZNFCounts.csv\")\n",
    "liverReadCountsMD0 = liverCountsMD0raw['cases'].dropna().values.tolist()\n",
    "\n",
    "colonCountsMD0raw = pd.read_csv(\n",
    "    \"plasma/colonNormalizedMethylatedZNFCounts.csv\")\n",
    "colonReadCountsMD0 = colonCountsMD0raw['cases'].dropna().values.tolist()"
   ]
  },
  {
   "cell_type": "markdown",
   "metadata": {
    "heading_collapsed": true,
    "hidden": true
   },
   "source": [
    "## Plotting - Figure 5A"
   ]
  },
  {
   "cell_type": "code",
   "execution_count": 39,
   "metadata": {
    "ExecuteTime": {
     "end_time": "2020-04-30T19:02:25.543632Z",
     "start_time": "2020-04-30T19:02:23.804182Z"
    },
    "hidden": true
   },
   "outputs": [
    {
     "name": "stdout",
     "output_type": "stream",
     "text": [
      "Stats:\n",
      "Control median = 11.380097927191464\n",
      "Pancreas Late median = 19.471677563889912\n",
      "Pancreas Early median = 18.610671265124253\n",
      "Ovarian median = 27.30264166496678\n",
      " \n",
      " \n",
      "Rank sum p-values:\n",
      "Control vs Pancreas Late rank sum = 0.00028711571884950185\n",
      "Control vs Pancreas Early rank sum = 0.002695978247598541\n",
      "Control vs Ovarian rank sum = 1.456636317002911e-05\n",
      " \n"
     ]
    },
    {
     "data": {
      "image/png": "[encoded data removed]",
      "text/plain": [
       "<Figure size 288x144 with 1 Axes>"
      ]
     },
     "metadata": {
      "needs_background": "light"
     },
     "output_type": "display_data"
    }
   ],
   "source": [
    "boxes = [pancreasLateReadCountsMD0, pancreasEarlyReadCountsMD0, ovarianReadCountsMD0, controlsReadCountsMD0]\n",
    "positions = [1, 2, 3, 4]\n",
    "colors = ['red', 'red', 'red', 'blue']\n",
    "xlabels = ['Pancreas\\nLate\\nn={}'.format(len(pancreasLateReadCountsMD0)),\n",
    "           'Pancreas\\nEarly\\nn={}'.format(len(pancreasEarlyReadCountsMD0)),\n",
    "           'Ovarian\\nn={}'.format(len(ovarianReadCountsMD0)),\n",
    "           'Controls\\nn={}'.format(len(controlsReadCountsMD0))]\n",
    "\n",
    "fig, ax = plt.subplots(figsize=(4, 2))\n",
    "bp = ax.boxplot(boxes, positions=positions, widths=0.4, patch_artist=True)\n",
    "\n",
    "for flier in bp['fliers']:\n",
    "    flier.set(marker='', color='black')\n",
    "for whisker in bp['whiskers']:\n",
    "    whisker.set(color='black', linewidth=2)\n",
    "for cap in bp['caps']:\n",
    "    cap.set(color='black', linewidth=2)\n",
    "for median in bp['medians']:\n",
    "    median.set(color='black', linewidth=2)\n",
    "\n",
    "for i in np.arange(len(boxes)):\n",
    "    bp['boxes'][i].set(color=colors[i], linewidth=2, alpha=0.9)\n",
    "    bp['boxes'][i].set(facecolor=lighten_color(colors[i]))\n",
    "    scatter = ax.scatter(x=np.random.normal(positions[i], 0.1, size=len(boxes[i])),\n",
    "                         y=boxes[i], c=colors[i], marker='.', edgecolors='', s=30, zorder=10)\n",
    "\n",
    "ax.set_ylim([0, 1000])\n",
    "plt.yscale('symlog')\n",
    "\n",
    "ax.set_xticklabels(xlabels, fontsize=12)\n",
    "ax.set_xlabel('Sample Sets', fontsize=12)\n",
    "ax.set_ylabel('Normalized\\nfragments/mL', fontsize=12)\n",
    "plt.yticks(fontsize=12)\n",
    "\n",
    "\n",
    "# plt.show()\n",
    "\n",
    "print('Stats:')\n",
    "print(\"Control median = {}\".format(np.median(controlsReadCountsMD0)))\n",
    "print(\"Pancreas Late median = {}\".format(np.median(pancreasLateReadCountsMD0)))\n",
    "print(\"Pancreas Early median = {}\".format(np.median(pancreasEarlyReadCountsMD0)))\n",
    "print(\"Ovarian median = {}\".format(np.median(ovarianReadCountsMD0)))\n",
    "print(' ')\n",
    "# print(\"Colon median = {}\".format(np.median(colonReadCountsMD0)))\n",
    "# print(\"Liver median = {}\".format(np.median(liverReadCountsMD0)))\n",
    "\n",
    "print(' ')\n",
    "\n",
    "print('Rank sum p-values:')\n",
    "print(\"Control vs Pancreas Late rank sum = {}\".format(ranksum(controlsReadCountsMD0, pancreasLateReadCountsMD0)))\n",
    "print(\"Control vs Pancreas Early rank sum = {}\".format(ranksum(controlsReadCountsMD0, pancreasEarlyReadCountsMD0)))\n",
    "print(\"Control vs Ovarian rank sum = {}\".format(ranksum(controlsReadCountsMD0, ovarianReadCountsMD0)))\n",
    "print(' ')\n",
    "# print(\"Control vs Colon rank sum = {}\".format(ranksum(controlsReadCountsMD0, colonReadCountsMD0)))\n",
    "# print(\"Control vs Liver rank sum = {}\".format(ranksum(controlsReadCountsMD0, liverReadCountsMD0)))\n",
    "\n",
    "plt.savefig('Figure5A.png', bbox_inches='tight', pad_inches=0.5, dpi=600)"
   ]
  },
  {
   "cell_type": "markdown",
   "metadata": {
    "heading_collapsed": true,
    "hidden": true
   },
   "source": [
    "## Plotting - Figure 5B"
   ]
  },
  {
   "cell_type": "code",
   "execution_count": 40,
   "metadata": {
    "ExecuteTime": {
     "end_time": "2020-04-30T19:02:27.221030Z",
     "start_time": "2020-04-30T19:02:25.547372Z"
    },
    "hidden": true
   },
   "outputs": [
    {
     "name": "stdout",
     "output_type": "stream",
     "text": [
      "AUC = 0.85\n",
      "optimal cutoff = 14.686363640043234\n",
      "sensitivity = 0.9411764705882353\n",
      "specificity = 0.8\n"
     ]
    },
    {
     "data": {
      "image/png": "[encoded data removed]",
      "text/plain": [
       "<Figure size 432x288 with 1 Axes>"
      ]
     },
     "metadata": {
      "needs_background": "light"
     },
     "output_type": "display_data"
    }
   ],
   "source": [
    "latePancAndControls = pd.DataFrame( [pancreasLateReadCountsMD0, controlsReadCountsMD0]).T\n",
    "latePancreasROC = rocplot(latePancAndControls)\n",
    "\n",
    "# latePancreasROC.plot().show()\n",
    "\n",
    "print('AUC = {}'.format(latePancreasROC.AUC))\n",
    "print('optimal cutoff = {}'.format(latePancreasROC.optimal_threshold))\n",
    "print('sensitivity = {}'.format(latePancreasROC.sensitivity))\n",
    "print('specificity = {}'.format(latePancreasROC.specificity))\n",
    "\n",
    "latePancreasROC.plot().savefig(\n",
    "    'Figure5B_latePanc.ROC.png', bbox_inches='tight', pad_inches=0.5, dpi=600)"
   ]
  },
  {
   "cell_type": "code",
   "execution_count": 41,
   "metadata": {
    "ExecuteTime": {
     "end_time": "2020-04-30T19:02:29.165105Z",
     "start_time": "2020-04-30T19:02:27.225132Z"
    },
    "hidden": true
   },
   "outputs": [
    {
     "name": "stdout",
     "output_type": "stream",
     "text": [
      "AUC = 0.86875\n",
      "optimal cutoff = 15.957980976458964\n",
      "sensitivity = 1.0\n",
      "specificity = 0.8\n"
     ]
    },
    {
     "data": {
      "image/png": "[encoded data removed]",
      "text/plain": [
       "<Figure size 432x288 with 1 Axes>"
      ]
     },
     "metadata": {
      "needs_background": "light"
     },
     "output_type": "display_data"
    }
   ],
   "source": [
    "earlyPancAndControls = pd.DataFrame( [pancreasEarlyReadCountsMD0, controlsReadCountsMD0]).T\n",
    "earlyPancreasROC = rocplot(earlyPancAndControls)\n",
    "\n",
    "# earlyPancreasROC.plot().show()\n",
    "\n",
    "print('AUC = {}'.format(earlyPancreasROC.AUC))\n",
    "print('optimal cutoff = {}'.format(earlyPancreasROC.optimal_threshold))\n",
    "print('sensitivity = {}'.format(earlyPancreasROC.sensitivity))\n",
    "print('specificity = {}'.format(earlyPancreasROC.specificity))\n",
    "\n",
    "earlyPancreasROC.plot().savefig(\n",
    "    'Figure5B_earlyPanc.ROC.png', bbox_inches='tight', pad_inches=0.5, dpi=600)"
   ]
  },
  {
   "cell_type": "code",
   "execution_count": 42,
   "metadata": {
    "ExecuteTime": {
     "end_time": "2020-04-30T19:02:30.868895Z",
     "start_time": "2020-04-30T19:02:29.167747Z"
    },
    "hidden": true
   },
   "outputs": [
    {
     "name": "stdout",
     "output_type": "stream",
     "text": [
      "AUC = 0.8486842105263158\n",
      "optimal cutoff = 13.812514647073064\n",
      "sensitivity = 0.868421052631579\n",
      "specificity = 0.8\n"
     ]
    },
    {
     "data": {
      "image/png": "[encoded data removed]",
      "text/plain": [
       "<Figure size 432x288 with 1 Axes>"
      ]
     },
     "metadata": {
      "needs_background": "light"
     },
     "output_type": "display_data"
    }
   ],
   "source": [
    "ovarianAndControls = pd.DataFrame( [ovarianReadCountsMD0, controlsReadCountsMD0]).T\n",
    "ovarianROC = rocplot(ovarianAndControls)\n",
    "\n",
    "# ovarianROC.plot().show()\n",
    "\n",
    "print('AUC = {}'.format(ovarianROC.AUC))\n",
    "print('optimal cutoff = {}'.format(ovarianROC.optimal_threshold))\n",
    "print('sensitivity = {}'.format(ovarianROC.sensitivity))\n",
    "print('specificity = {}'.format(ovarianROC.specificity))\n",
    "\n",
    "ovarianROC.plot().savefig(\n",
    "    'Figure5B_ovarian.ROC.png', bbox_inches='tight', pad_inches=0.5, dpi=600)"
   ]
  },
  {
   "cell_type": "markdown",
   "metadata": {
    "heading_collapsed": true
   },
   "source": [
    "# Figure 6 - KRAS MtAF"
   ]
  },
  {
   "cell_type": "markdown",
   "metadata": {
    "heading_collapsed": true,
    "hidden": true
   },
   "source": [
    "## Load Data"
   ]
  },
  {
   "cell_type": "code",
   "execution_count": 43,
   "metadata": {
    "ExecuteTime": {
     "end_time": "2020-04-30T19:02:30.887177Z",
     "start_time": "2020-04-30T19:02:30.872174Z"
    },
    "hidden": true
   },
   "outputs": [],
   "source": [
    "krasMtAFPath = 'plasma/KRASddPCRcounts.csv'\n",
    "kras_copies = pd.read_csv(krasMtAFPath)"
   ]
  },
  {
   "cell_type": "code",
   "execution_count": 44,
   "metadata": {
    "ExecuteTime": {
     "end_time": "2020-04-30T19:02:30.905526Z",
     "start_time": "2020-04-30T19:02:30.892235Z"
    },
    "hidden": true
   },
   "outputs": [],
   "source": [
    "plasmaSamplesTablePath = 'plasma/TableS2_plasmaSamples.csv'\n",
    "samples = pd.read_csv(plasmaSamplesTablePath)"
   ]
  },
  {
   "cell_type": "code",
   "execution_count": 45,
   "metadata": {
    "ExecuteTime": {
     "end_time": "2020-04-30T19:02:30.918599Z",
     "start_time": "2020-04-30T19:02:30.908435Z"
    },
    "hidden": true
   },
   "outputs": [],
   "source": [
    "# pancreas and control samples\n",
    "late_stage = ['112303', '111515', '100815', '101181', '106979', '107754', '111389', '104921',\n",
    "              '108126', '106239', '106615', '112255', '113396', '127267', '131056', '141239', '113852']\n",
    "early_stage = ['133019', '133069', '112944',\n",
    "               '122947', '106646', '107187', '104422', '107695']\n",
    "controls = ['104876', '102109', '101825', '103566', '101747', '103116', '102172', '101937', '101799',\n",
    "            '102059', '101786', '102029', '109195', '109608', '106846', '108028', '104617', '103110', '109162', '100545']"
   ]
  },
  {
   "cell_type": "markdown",
   "metadata": {
    "heading_collapsed": true,
    "hidden": true
   },
   "source": [
    "## Process Data"
   ]
  },
  {
   "cell_type": "code",
   "execution_count": 46,
   "metadata": {
    "ExecuteTime": {
     "end_time": "2020-04-30T19:02:31.006427Z",
     "start_time": "2020-04-30T19:02:30.922134Z"
    },
    "hidden": true,
    "scrolled": true
   },
   "outputs": [
    {
     "data": {
      "text/html": [
       "<div>\n",
       "<style scoped>\n",
       "    .dataframe tbody tr th:only-of-type {\n",
       "        vertical-align: middle;\n",
       "    }\n",
       "\n",
       "    .dataframe tbody tr th {\n",
       "        vertical-align: top;\n",
       "    }\n",
       "\n",
       "    .dataframe thead th {\n",
       "        text-align: right;\n",
       "    }\n",
       "</style>\n",
       "<table border=\"1\" class=\"dataframe\">\n",
       "  <thead>\n",
       "    <tr style=\"text-align: right;\">\n",
       "      <th></th>\n",
       "      <th>MUT copies</th>\n",
       "      <th>WT copies</th>\n",
       "      <th>samples</th>\n",
       "      <th>total_copies</th>\n",
       "      <th>MAF</th>\n",
       "      <th>mLs_plasma</th>\n",
       "      <th>type</th>\n",
       "      <th>stage</th>\n",
       "      <th>fraction</th>\n",
       "      <th>adj_MAF</th>\n",
       "    </tr>\n",
       "  </thead>\n",
       "  <tbody>\n",
       "    <tr>\n",
       "      <td>0</td>\n",
       "      <td>1.8</td>\n",
       "      <td>5440</td>\n",
       "      <td>100545</td>\n",
       "      <td>5441.8</td>\n",
       "      <td>0.000331</td>\n",
       "      <td>3.25</td>\n",
       "      <td>control</td>\n",
       "      <td>NaN</td>\n",
       "      <td>0.8</td>\n",
       "      <td>0.000127</td>\n",
       "    </tr>\n",
       "    <tr>\n",
       "      <td>1</td>\n",
       "      <td>7.6</td>\n",
       "      <td>1962</td>\n",
       "      <td>100815</td>\n",
       "      <td>1969.6</td>\n",
       "      <td>0.003859</td>\n",
       "      <td>1.85</td>\n",
       "      <td>pancreas</td>\n",
       "      <td>4A</td>\n",
       "      <td>0.8</td>\n",
       "      <td>0.002607</td>\n",
       "    </tr>\n",
       "    <tr>\n",
       "      <td>2</td>\n",
       "      <td>0.0</td>\n",
       "      <td>6480</td>\n",
       "      <td>101181</td>\n",
       "      <td>6480.0</td>\n",
       "      <td>0.000000</td>\n",
       "      <td>1.50</td>\n",
       "      <td>pancreas</td>\n",
       "      <td>4A</td>\n",
       "      <td>0.8</td>\n",
       "      <td>0.000000</td>\n",
       "    </tr>\n",
       "    <tr>\n",
       "      <td>3</td>\n",
       "      <td>0.0</td>\n",
       "      <td>902</td>\n",
       "      <td>101747</td>\n",
       "      <td>902.0</td>\n",
       "      <td>0.000000</td>\n",
       "      <td>3.00</td>\n",
       "      <td>control</td>\n",
       "      <td>NaN</td>\n",
       "      <td>0.8</td>\n",
       "      <td>0.000000</td>\n",
       "    </tr>\n",
       "    <tr>\n",
       "      <td>4</td>\n",
       "      <td>0.0</td>\n",
       "      <td>1746</td>\n",
       "      <td>101786</td>\n",
       "      <td>1746.0</td>\n",
       "      <td>0.000000</td>\n",
       "      <td>3.00</td>\n",
       "      <td>control</td>\n",
       "      <td>NaN</td>\n",
       "      <td>0.8</td>\n",
       "      <td>0.000000</td>\n",
       "    </tr>\n",
       "    <tr>\n",
       "      <td>5</td>\n",
       "      <td>0.0</td>\n",
       "      <td>2480</td>\n",
       "      <td>101799</td>\n",
       "      <td>2480.0</td>\n",
       "      <td>0.000000</td>\n",
       "      <td>3.00</td>\n",
       "      <td>control</td>\n",
       "      <td>NaN</td>\n",
       "      <td>0.8</td>\n",
       "      <td>0.000000</td>\n",
       "    </tr>\n",
       "    <tr>\n",
       "      <td>6</td>\n",
       "      <td>0.0</td>\n",
       "      <td>1626</td>\n",
       "      <td>101825</td>\n",
       "      <td>1626.0</td>\n",
       "      <td>0.000000</td>\n",
       "      <td>3.25</td>\n",
       "      <td>control</td>\n",
       "      <td>NaN</td>\n",
       "      <td>0.8</td>\n",
       "      <td>0.000000</td>\n",
       "    </tr>\n",
       "    <tr>\n",
       "      <td>7</td>\n",
       "      <td>0.0</td>\n",
       "      <td>648</td>\n",
       "      <td>101937</td>\n",
       "      <td>648.0</td>\n",
       "      <td>0.000000</td>\n",
       "      <td>3.25</td>\n",
       "      <td>control</td>\n",
       "      <td>NaN</td>\n",
       "      <td>0.8</td>\n",
       "      <td>0.000000</td>\n",
       "    </tr>\n",
       "    <tr>\n",
       "      <td>8</td>\n",
       "      <td>1.8</td>\n",
       "      <td>4680</td>\n",
       "      <td>102029</td>\n",
       "      <td>4681.8</td>\n",
       "      <td>0.000384</td>\n",
       "      <td>3.25</td>\n",
       "      <td>control</td>\n",
       "      <td>NaN</td>\n",
       "      <td>0.8</td>\n",
       "      <td>0.000148</td>\n",
       "    </tr>\n",
       "    <tr>\n",
       "      <td>9</td>\n",
       "      <td>0.0</td>\n",
       "      <td>2224</td>\n",
       "      <td>102059</td>\n",
       "      <td>2224.0</td>\n",
       "      <td>0.000000</td>\n",
       "      <td>3.20</td>\n",
       "      <td>control</td>\n",
       "      <td>NaN</td>\n",
       "      <td>0.8</td>\n",
       "      <td>0.000000</td>\n",
       "    </tr>\n",
       "    <tr>\n",
       "      <td>10</td>\n",
       "      <td>0.0</td>\n",
       "      <td>2460</td>\n",
       "      <td>102109</td>\n",
       "      <td>2460.0</td>\n",
       "      <td>0.000000</td>\n",
       "      <td>2.90</td>\n",
       "      <td>control</td>\n",
       "      <td>NaN</td>\n",
       "      <td>0.8</td>\n",
       "      <td>0.000000</td>\n",
       "    </tr>\n",
       "    <tr>\n",
       "      <td>11</td>\n",
       "      <td>4.4</td>\n",
       "      <td>1190</td>\n",
       "      <td>102172</td>\n",
       "      <td>1194.4</td>\n",
       "      <td>0.003684</td>\n",
       "      <td>3.20</td>\n",
       "      <td>control</td>\n",
       "      <td>NaN</td>\n",
       "      <td>0.8</td>\n",
       "      <td>0.001439</td>\n",
       "    </tr>\n",
       "    <tr>\n",
       "      <td>12</td>\n",
       "      <td>0.0</td>\n",
       "      <td>20500</td>\n",
       "      <td>103110</td>\n",
       "      <td>20500.0</td>\n",
       "      <td>0.000000</td>\n",
       "      <td>3.25</td>\n",
       "      <td>control</td>\n",
       "      <td>NaN</td>\n",
       "      <td>0.8</td>\n",
       "      <td>0.000000</td>\n",
       "    </tr>\n",
       "    <tr>\n",
       "      <td>13</td>\n",
       "      <td>0.0</td>\n",
       "      <td>1570</td>\n",
       "      <td>103116</td>\n",
       "      <td>1570.0</td>\n",
       "      <td>0.000000</td>\n",
       "      <td>3.40</td>\n",
       "      <td>control</td>\n",
       "      <td>NaN</td>\n",
       "      <td>0.8</td>\n",
       "      <td>0.000000</td>\n",
       "    </tr>\n",
       "    <tr>\n",
       "      <td>14</td>\n",
       "      <td>0.0</td>\n",
       "      <td>1290</td>\n",
       "      <td>103566</td>\n",
       "      <td>1290.0</td>\n",
       "      <td>0.000000</td>\n",
       "      <td>3.25</td>\n",
       "      <td>control</td>\n",
       "      <td>NaN</td>\n",
       "      <td>0.8</td>\n",
       "      <td>0.000000</td>\n",
       "    </tr>\n",
       "    <tr>\n",
       "      <td>15</td>\n",
       "      <td>0.0</td>\n",
       "      <td>1070</td>\n",
       "      <td>104422</td>\n",
       "      <td>1070.0</td>\n",
       "      <td>0.000000</td>\n",
       "      <td>1.50</td>\n",
       "      <td>pancreas</td>\n",
       "      <td>2B</td>\n",
       "      <td>0.8</td>\n",
       "      <td>0.000000</td>\n",
       "    </tr>\n",
       "    <tr>\n",
       "      <td>16</td>\n",
       "      <td>3.6</td>\n",
       "      <td>16660</td>\n",
       "      <td>104617</td>\n",
       "      <td>16663.6</td>\n",
       "      <td>0.000216</td>\n",
       "      <td>3.25</td>\n",
       "      <td>control</td>\n",
       "      <td>NaN</td>\n",
       "      <td>0.8</td>\n",
       "      <td>0.000083</td>\n",
       "    </tr>\n",
       "    <tr>\n",
       "      <td>17</td>\n",
       "      <td>0.0</td>\n",
       "      <td>2720</td>\n",
       "      <td>104876</td>\n",
       "      <td>2720.0</td>\n",
       "      <td>0.000000</td>\n",
       "      <td>3.25</td>\n",
       "      <td>control</td>\n",
       "      <td>NaN</td>\n",
       "      <td>0.8</td>\n",
       "      <td>0.000000</td>\n",
       "    </tr>\n",
       "    <tr>\n",
       "      <td>18</td>\n",
       "      <td>0.0</td>\n",
       "      <td>3460</td>\n",
       "      <td>104921</td>\n",
       "      <td>3460.0</td>\n",
       "      <td>0.000000</td>\n",
       "      <td>1.60</td>\n",
       "      <td>pancreas</td>\n",
       "      <td>3</td>\n",
       "      <td>0.8</td>\n",
       "      <td>0.000000</td>\n",
       "    </tr>\n",
       "    <tr>\n",
       "      <td>19</td>\n",
       "      <td>0.0</td>\n",
       "      <td>2332</td>\n",
       "      <td>106239</td>\n",
       "      <td>2332.0</td>\n",
       "      <td>0.000000</td>\n",
       "      <td>1.80</td>\n",
       "      <td>pancreas</td>\n",
       "      <td>4M</td>\n",
       "      <td>0.8</td>\n",
       "      <td>0.000000</td>\n",
       "    </tr>\n",
       "    <tr>\n",
       "      <td>20</td>\n",
       "      <td>1552.0</td>\n",
       "      <td>1350</td>\n",
       "      <td>106615</td>\n",
       "      <td>2902.0</td>\n",
       "      <td>0.534804</td>\n",
       "      <td>2.00</td>\n",
       "      <td>pancreas</td>\n",
       "      <td>4M</td>\n",
       "      <td>0.8</td>\n",
       "      <td>0.334252</td>\n",
       "    </tr>\n",
       "    <tr>\n",
       "      <td>21</td>\n",
       "      <td>0.0</td>\n",
       "      <td>770</td>\n",
       "      <td>106646</td>\n",
       "      <td>770.0</td>\n",
       "      <td>0.000000</td>\n",
       "      <td>1.95</td>\n",
       "      <td>pancreas</td>\n",
       "      <td>2B</td>\n",
       "      <td>0.8</td>\n",
       "      <td>0.000000</td>\n",
       "    </tr>\n",
       "    <tr>\n",
       "      <td>22</td>\n",
       "      <td>0.0</td>\n",
       "      <td>3640</td>\n",
       "      <td>106846</td>\n",
       "      <td>3640.0</td>\n",
       "      <td>0.000000</td>\n",
       "      <td>3.55</td>\n",
       "      <td>control</td>\n",
       "      <td>NaN</td>\n",
       "      <td>0.8</td>\n",
       "      <td>0.000000</td>\n",
       "    </tr>\n",
       "    <tr>\n",
       "      <td>23</td>\n",
       "      <td>0.0</td>\n",
       "      <td>1276</td>\n",
       "      <td>106979</td>\n",
       "      <td>1276.0</td>\n",
       "      <td>0.000000</td>\n",
       "      <td>1.50</td>\n",
       "      <td>pancreas</td>\n",
       "      <td>4M</td>\n",
       "      <td>0.8</td>\n",
       "      <td>0.000000</td>\n",
       "    </tr>\n",
       "    <tr>\n",
       "      <td>24</td>\n",
       "      <td>0.0</td>\n",
       "      <td>686</td>\n",
       "      <td>107187</td>\n",
       "      <td>686.0</td>\n",
       "      <td>0.000000</td>\n",
       "      <td>1.70</td>\n",
       "      <td>pancreas</td>\n",
       "      <td>2B</td>\n",
       "      <td>0.8</td>\n",
       "      <td>0.000000</td>\n",
       "    </tr>\n",
       "    <tr>\n",
       "      <td>25</td>\n",
       "      <td>0.0</td>\n",
       "      <td>2280</td>\n",
       "      <td>107695</td>\n",
       "      <td>2280.0</td>\n",
       "      <td>0.000000</td>\n",
       "      <td>1.75</td>\n",
       "      <td>pancreas</td>\n",
       "      <td>2B</td>\n",
       "      <td>0.8</td>\n",
       "      <td>0.000000</td>\n",
       "    </tr>\n",
       "    <tr>\n",
       "      <td>26</td>\n",
       "      <td>0.0</td>\n",
       "      <td>2462</td>\n",
       "      <td>107754</td>\n",
       "      <td>2462.0</td>\n",
       "      <td>0.000000</td>\n",
       "      <td>1.70</td>\n",
       "      <td>pancreas</td>\n",
       "      <td>4M</td>\n",
       "      <td>0.8</td>\n",
       "      <td>0.000000</td>\n",
       "    </tr>\n",
       "    <tr>\n",
       "      <td>27</td>\n",
       "      <td>2.0</td>\n",
       "      <td>7940</td>\n",
       "      <td>108028</td>\n",
       "      <td>7942.0</td>\n",
       "      <td>0.000252</td>\n",
       "      <td>2.50</td>\n",
       "      <td>control</td>\n",
       "      <td>NaN</td>\n",
       "      <td>0.8</td>\n",
       "      <td>0.000126</td>\n",
       "    </tr>\n",
       "    <tr>\n",
       "      <td>28</td>\n",
       "      <td>4.8</td>\n",
       "      <td>2040</td>\n",
       "      <td>108126</td>\n",
       "      <td>2044.8</td>\n",
       "      <td>0.002347</td>\n",
       "      <td>1.80</td>\n",
       "      <td>pancreas</td>\n",
       "      <td>3</td>\n",
       "      <td>0.8</td>\n",
       "      <td>0.001630</td>\n",
       "    </tr>\n",
       "    <tr>\n",
       "      <td>29</td>\n",
       "      <td>1.8</td>\n",
       "      <td>7280</td>\n",
       "      <td>109162</td>\n",
       "      <td>7281.8</td>\n",
       "      <td>0.000247</td>\n",
       "      <td>3.50</td>\n",
       "      <td>control</td>\n",
       "      <td>NaN</td>\n",
       "      <td>0.8</td>\n",
       "      <td>0.000088</td>\n",
       "    </tr>\n",
       "    <tr>\n",
       "      <td>30</td>\n",
       "      <td>5.4</td>\n",
       "      <td>5860</td>\n",
       "      <td>109195</td>\n",
       "      <td>5865.4</td>\n",
       "      <td>0.000921</td>\n",
       "      <td>3.70</td>\n",
       "      <td>control</td>\n",
       "      <td>NaN</td>\n",
       "      <td>0.8</td>\n",
       "      <td>0.000311</td>\n",
       "    </tr>\n",
       "    <tr>\n",
       "      <td>31</td>\n",
       "      <td>0.0</td>\n",
       "      <td>4980</td>\n",
       "      <td>109608</td>\n",
       "      <td>4980.0</td>\n",
       "      <td>0.000000</td>\n",
       "      <td>4.00</td>\n",
       "      <td>control</td>\n",
       "      <td>NaN</td>\n",
       "      <td>0.8</td>\n",
       "      <td>0.000000</td>\n",
       "    </tr>\n",
       "    <tr>\n",
       "      <td>32</td>\n",
       "      <td>0.0</td>\n",
       "      <td>1270</td>\n",
       "      <td>111389</td>\n",
       "      <td>1270.0</td>\n",
       "      <td>0.000000</td>\n",
       "      <td>1.90</td>\n",
       "      <td>pancreas</td>\n",
       "      <td>4M</td>\n",
       "      <td>0.8</td>\n",
       "      <td>0.000000</td>\n",
       "    </tr>\n",
       "    <tr>\n",
       "      <td>33</td>\n",
       "      <td>0.0</td>\n",
       "      <td>794</td>\n",
       "      <td>111515</td>\n",
       "      <td>794.0</td>\n",
       "      <td>0.000000</td>\n",
       "      <td>1.50</td>\n",
       "      <td>pancreas</td>\n",
       "      <td>4M</td>\n",
       "      <td>0.8</td>\n",
       "      <td>0.000000</td>\n",
       "    </tr>\n",
       "    <tr>\n",
       "      <td>34</td>\n",
       "      <td>3.8</td>\n",
       "      <td>1754</td>\n",
       "      <td>112255</td>\n",
       "      <td>1757.8</td>\n",
       "      <td>0.002162</td>\n",
       "      <td>1.90</td>\n",
       "      <td>pancreas</td>\n",
       "      <td>4M</td>\n",
       "      <td>0.8</td>\n",
       "      <td>0.001422</td>\n",
       "    </tr>\n",
       "    <tr>\n",
       "      <td>35</td>\n",
       "      <td>2.6</td>\n",
       "      <td>1226</td>\n",
       "      <td>112303</td>\n",
       "      <td>1228.6</td>\n",
       "      <td>0.002116</td>\n",
       "      <td>1.50</td>\n",
       "      <td>pancreas</td>\n",
       "      <td>3</td>\n",
       "      <td>0.8</td>\n",
       "      <td>0.001764</td>\n",
       "    </tr>\n",
       "    <tr>\n",
       "      <td>36</td>\n",
       "      <td>0.0</td>\n",
       "      <td>3280</td>\n",
       "      <td>112944</td>\n",
       "      <td>3280.0</td>\n",
       "      <td>0.000000</td>\n",
       "      <td>2.00</td>\n",
       "      <td>pancreas</td>\n",
       "      <td>2A</td>\n",
       "      <td>0.8</td>\n",
       "      <td>0.000000</td>\n",
       "    </tr>\n",
       "    <tr>\n",
       "      <td>37</td>\n",
       "      <td>0.0</td>\n",
       "      <td>3580</td>\n",
       "      <td>113396</td>\n",
       "      <td>3580.0</td>\n",
       "      <td>0.000000</td>\n",
       "      <td>2.00</td>\n",
       "      <td>pancreas</td>\n",
       "      <td>4M</td>\n",
       "      <td>0.8</td>\n",
       "      <td>0.000000</td>\n",
       "    </tr>\n",
       "    <tr>\n",
       "      <td>38</td>\n",
       "      <td>3.6</td>\n",
       "      <td>2510</td>\n",
       "      <td>113852</td>\n",
       "      <td>2513.6</td>\n",
       "      <td>0.001432</td>\n",
       "      <td>2.00</td>\n",
       "      <td>pancreas</td>\n",
       "      <td>3</td>\n",
       "      <td>0.8</td>\n",
       "      <td>0.000895</td>\n",
       "    </tr>\n",
       "    <tr>\n",
       "      <td>39</td>\n",
       "      <td>0.0</td>\n",
       "      <td>2320</td>\n",
       "      <td>122947</td>\n",
       "      <td>2320.0</td>\n",
       "      <td>0.000000</td>\n",
       "      <td>1.90</td>\n",
       "      <td>pancreas</td>\n",
       "      <td>2B</td>\n",
       "      <td>0.8</td>\n",
       "      <td>0.000000</td>\n",
       "    </tr>\n",
       "    <tr>\n",
       "      <td>40</td>\n",
       "      <td>4.0</td>\n",
       "      <td>3720</td>\n",
       "      <td>127267</td>\n",
       "      <td>3724.0</td>\n",
       "      <td>0.001074</td>\n",
       "      <td>1.90</td>\n",
       "      <td>pancreas</td>\n",
       "      <td>4M</td>\n",
       "      <td>0.8</td>\n",
       "      <td>0.000707</td>\n",
       "    </tr>\n",
       "    <tr>\n",
       "      <td>41</td>\n",
       "      <td>470.0</td>\n",
       "      <td>3420</td>\n",
       "      <td>131056</td>\n",
       "      <td>3890.0</td>\n",
       "      <td>0.120823</td>\n",
       "      <td>1.80</td>\n",
       "      <td>pancreas</td>\n",
       "      <td>4M</td>\n",
       "      <td>0.8</td>\n",
       "      <td>0.083905</td>\n",
       "    </tr>\n",
       "    <tr>\n",
       "      <td>42</td>\n",
       "      <td>0.0</td>\n",
       "      <td>1134</td>\n",
       "      <td>133019</td>\n",
       "      <td>1134.0</td>\n",
       "      <td>0.000000</td>\n",
       "      <td>1.75</td>\n",
       "      <td>pancreas</td>\n",
       "      <td>1A</td>\n",
       "      <td>0.8</td>\n",
       "      <td>0.000000</td>\n",
       "    </tr>\n",
       "    <tr>\n",
       "      <td>43</td>\n",
       "      <td>0.0</td>\n",
       "      <td>2740</td>\n",
       "      <td>133069</td>\n",
       "      <td>2740.0</td>\n",
       "      <td>0.000000</td>\n",
       "      <td>1.90</td>\n",
       "      <td>pancreas</td>\n",
       "      <td>2A</td>\n",
       "      <td>0.8</td>\n",
       "      <td>0.000000</td>\n",
       "    </tr>\n",
       "    <tr>\n",
       "      <td>44</td>\n",
       "      <td>120.0</td>\n",
       "      <td>32560</td>\n",
       "      <td>141239</td>\n",
       "      <td>32680.0</td>\n",
       "      <td>0.003672</td>\n",
       "      <td>2.00</td>\n",
       "      <td>pancreas</td>\n",
       "      <td>4M</td>\n",
       "      <td>0.8</td>\n",
       "      <td>0.002295</td>\n",
       "    </tr>\n",
       "  </tbody>\n",
       "</table>\n",
       "</div>"
      ],
      "text/plain": [
       "    MUT copies  WT copies  samples  total_copies       MAF  mLs_plasma  \\\n",
       "0          1.8       5440   100545        5441.8  0.000331        3.25   \n",
       "1          7.6       1962   100815        1969.6  0.003859        1.85   \n",
       "2          0.0       6480   101181        6480.0  0.000000        1.50   \n",
       "3          0.0        902   101747         902.0  0.000000        3.00   \n",
       "4          0.0       1746   101786        1746.0  0.000000        3.00   \n",
       "5          0.0       2480   101799        2480.0  0.000000        3.00   \n",
       "6          0.0       1626   101825        1626.0  0.000000        3.25   \n",
       "7          0.0        648   101937         648.0  0.000000        3.25   \n",
       "8          1.8       4680   102029        4681.8  0.000384        3.25   \n",
       "9          0.0       2224   102059        2224.0  0.000000        3.20   \n",
       "10         0.0       2460   102109        2460.0  0.000000        2.90   \n",
       "11         4.4       1190   102172        1194.4  0.003684        3.20   \n",
       "12         0.0      20500   103110       20500.0  0.000000        3.25   \n",
       "13         0.0       1570   103116        1570.0  0.000000        3.40   \n",
       "14         0.0       1290   103566        1290.0  0.000000        3.25   \n",
       "15         0.0       1070   104422        1070.0  0.000000        1.50   \n",
       "16         3.6      16660   104617       16663.6  0.000216        3.25   \n",
       "17         0.0       2720   104876        2720.0  0.000000        3.25   \n",
       "18         0.0       3460   104921        3460.0  0.000000        1.60   \n",
       "19         0.0       2332   106239        2332.0  0.000000        1.80   \n",
       "20      1552.0       1350   106615        2902.0  0.534804        2.00   \n",
       "21         0.0        770   106646         770.0  0.000000        1.95   \n",
       "22         0.0       3640   106846        3640.0  0.000000        3.55   \n",
       "23         0.0       1276   106979        1276.0  0.000000        1.50   \n",
       "24         0.0        686   107187         686.0  0.000000        1.70   \n",
       "25         0.0       2280   107695        2280.0  0.000000        1.75   \n",
       "26         0.0       2462   107754        2462.0  0.000000        1.70   \n",
       "27         2.0       7940   108028        7942.0  0.000252        2.50   \n",
       "28         4.8       2040   108126        2044.8  0.002347        1.80   \n",
       "29         1.8       7280   109162        7281.8  0.000247        3.50   \n",
       "30         5.4       5860   109195        5865.4  0.000921        3.70   \n",
       "31         0.0       4980   109608        4980.0  0.000000        4.00   \n",
       "32         0.0       1270   111389        1270.0  0.000000        1.90   \n",
       "33         0.0        794   111515         794.0  0.000000        1.50   \n",
       "34         3.8       1754   112255        1757.8  0.002162        1.90   \n",
       "35         2.6       1226   112303        1228.6  0.002116        1.50   \n",
       "36         0.0       3280   112944        3280.0  0.000000        2.00   \n",
       "37         0.0       3580   113396        3580.0  0.000000        2.00   \n",
       "38         3.6       2510   113852        2513.6  0.001432        2.00   \n",
       "39         0.0       2320   122947        2320.0  0.000000        1.90   \n",
       "40         4.0       3720   127267        3724.0  0.001074        1.90   \n",
       "41       470.0       3420   131056        3890.0  0.120823        1.80   \n",
       "42         0.0       1134   133019        1134.0  0.000000        1.75   \n",
       "43         0.0       2740   133069        2740.0  0.000000        1.90   \n",
       "44       120.0      32560   141239       32680.0  0.003672        2.00   \n",
       "\n",
       "        type stage  fraction   adj_MAF  \n",
       "0    control   NaN       0.8  0.000127  \n",
       "1   pancreas    4A       0.8  0.002607  \n",
       "2   pancreas    4A       0.8  0.000000  \n",
       "3    control   NaN       0.8  0.000000  \n",
       "4    control   NaN       0.8  0.000000  \n",
       "5    control   NaN       0.8  0.000000  \n",
       "6    control   NaN       0.8  0.000000  \n",
       "7    control   NaN       0.8  0.000000  \n",
       "8    control   NaN       0.8  0.000148  \n",
       "9    control   NaN       0.8  0.000000  \n",
       "10   control   NaN       0.8  0.000000  \n",
       "11   control   NaN       0.8  0.001439  \n",
       "12   control   NaN       0.8  0.000000  \n",
       "13   control   NaN       0.8  0.000000  \n",
       "14   control   NaN       0.8  0.000000  \n",
       "15  pancreas    2B       0.8  0.000000  \n",
       "16   control   NaN       0.8  0.000083  \n",
       "17   control   NaN       0.8  0.000000  \n",
       "18  pancreas     3       0.8  0.000000  \n",
       "19  pancreas    4M       0.8  0.000000  \n",
       "20  pancreas    4M       0.8  0.334252  \n",
       "21  pancreas    2B       0.8  0.000000  \n",
       "22   control   NaN       0.8  0.000000  \n",
       "23  pancreas    4M       0.8  0.000000  \n",
       "24  pancreas    2B       0.8  0.000000  \n",
       "25  pancreas    2B       0.8  0.000000  \n",
       "26  pancreas    4M       0.8  0.000000  \n",
       "27   control   NaN       0.8  0.000126  \n",
       "28  pancreas     3       0.8  0.001630  \n",
       "29   control   NaN       0.8  0.000088  \n",
       "30   control   NaN       0.8  0.000311  \n",
       "31   control   NaN       0.8  0.000000  \n",
       "32  pancreas    4M       0.8  0.000000  \n",
       "33  pancreas    4M       0.8  0.000000  \n",
       "34  pancreas    4M       0.8  0.001422  \n",
       "35  pancreas     3       0.8  0.001764  \n",
       "36  pancreas    2A       0.8  0.000000  \n",
       "37  pancreas    4M       0.8  0.000000  \n",
       "38  pancreas     3       0.8  0.000895  \n",
       "39  pancreas    2B       0.8  0.000000  \n",
       "40  pancreas    4M       0.8  0.000707  \n",
       "41  pancreas    4M       0.8  0.083905  \n",
       "42  pancreas    1A       0.8  0.000000  \n",
       "43  pancreas    2A       0.8  0.000000  \n",
       "44  pancreas    4M       0.8  0.002295  "
      ]
     },
     "execution_count": 46,
     "metadata": {},
     "output_type": "execute_result"
    }
   ],
   "source": [
    "kras_copies_combined = kras_copies.groupby(['Sample']).sum()\n",
    "kras_copies_combined['samples'] = kras_copies_combined.index.values\n",
    "\n",
    "kras_copies_combined['total_copies'] = kras_copies_combined['MUT copies'] + \\\n",
    "    kras_copies_combined['WT copies']\n",
    "kras_copies_combined['MAF'] = kras_copies_combined['MUT copies'] / \\\n",
    "    kras_copies_combined['total_copies']\n",
    "\n",
    "sample_plasma = samples[['samples', 'mLs_plasma', 'type', 'stage']]\n",
    "\n",
    "kras_copies_combined_with_plasma = pd.merge(\n",
    "    kras_copies_combined, sample_plasma, on='samples')\n",
    "\n",
    "kras_copies_combined_with_plasma['fraction'] = 0.8\n",
    "\n",
    "kras_copies_combined_with_plasma['adj_MAF'] = kras_copies_combined_with_plasma['MAF'] / (\n",
    "    kras_copies_combined_with_plasma['mLs_plasma'] * kras_copies_combined_with_plasma['fraction'])\n",
    "\n",
    "# kras_copies_combined_with_plasma.to_csv('KRAS_MtAF_Table_S3.csv')\n",
    "\n",
    "kras_copies_combined_with_plasma"
   ]
  },
  {
   "cell_type": "code",
   "execution_count": 47,
   "metadata": {
    "ExecuteTime": {
     "end_time": "2020-04-30T19:02:31.038860Z",
     "start_time": "2020-04-30T19:02:31.010408Z"
    },
    "hidden": true
   },
   "outputs": [],
   "source": [
    "# KRAS MtAF data\n",
    "late = kras_copies_combined_with_plasma[kras_copies_combined_with_plasma['samples'].isin(\n",
    "    late_stage)][['samples', 'adj_MAF']]\n",
    "early = kras_copies_combined_with_plasma[kras_copies_combined_with_plasma['samples'].isin(\n",
    "    early_stage)][['samples', 'adj_MAF']]\n",
    "control = kras_copies_combined_with_plasma[kras_copies_combined_with_plasma['samples'].isin(\n",
    "    controls)][['samples', 'adj_MAF']]"
   ]
  },
  {
   "cell_type": "code",
   "execution_count": 48,
   "metadata": {
    "ExecuteTime": {
     "end_time": "2020-04-30T19:02:31.099159Z",
     "start_time": "2020-04-30T19:02:31.042352Z"
    },
    "hidden": true
   },
   "outputs": [],
   "source": [
    "late_table = pd.DataFrame(\n",
    "    [late['adj_MAF'].values.tolist(), control['adj_MAF'].values.tolist()]).T\n",
    "early_table = pd.DataFrame(\n",
    "    [early['adj_MAF'].values.tolist(), control['adj_MAF'].values.tolist()]).T\n",
    "\n",
    "all_table = pd.DataFrame(\n",
    "    [early['adj_MAF'].values.tolist() + late['adj_MAF'].values.tolist(), control['adj_MAF'].values.tolist()]).T"
   ]
  },
  {
   "cell_type": "code",
   "execution_count": 49,
   "metadata": {
    "ExecuteTime": {
     "end_time": "2020-04-30T19:02:31.180632Z",
     "start_time": "2020-04-30T19:02:31.103042Z"
    },
    "hidden": true
   },
   "outputs": [],
   "source": [
    "earlyMAF = early_table.loc[:,0].dropna().values.tolist()\n",
    "lateMAF = late_table.loc[:,0].dropna().values.tolist()\n",
    "controlMAF = late_table.loc[:,1].dropna().values.tolist()"
   ]
  },
  {
   "cell_type": "markdown",
   "metadata": {
    "heading_collapsed": true,
    "hidden": true
   },
   "source": [
    "## Plotting - Figure 6A"
   ]
  },
  {
   "cell_type": "code",
   "execution_count": 50,
   "metadata": {
    "ExecuteTime": {
     "end_time": "2020-04-30T19:02:32.123016Z",
     "start_time": "2020-04-30T19:02:31.191157Z"
    },
    "hidden": true
   },
   "outputs": [
    {
     "name": "stdout",
     "output_type": "stream",
     "text": [
      "statistics:\n",
      "Control median = 0.0\n",
      "Pancreas Late median = 0.0007066538526768047\n",
      "Pancreas Early median = 0.0\n",
      " \n",
      "rank sum p-values:\n",
      "Control vs Pancreas Late rank sum = 0.0243105105152741\n",
      "Control vs Pancreas Early rank sum = 0.9716422524519456\n"
     ]
    },
    {
     "data": {
      "image/png": "[encoded data removed]",
      "text/plain": [
       "<Figure size 216x144 with 1 Axes>"
      ]
     },
     "metadata": {
      "needs_background": "light"
     },
     "output_type": "display_data"
    }
   ],
   "source": [
    "boxes = [lateMAF, earlyMAF, controlMAF]\n",
    "positions = [1, 2, 3]\n",
    "colors = ['red', 'red', 'blue']\n",
    "xlabels = ['Pancreas\\nLate\\nn=17', 'Pancreas\\nEarly\\nn=8', 'Controls\\nn=20']\n",
    "\n",
    "fig, ax = plt.subplots(figsize=(3, 2))\n",
    "bp = ax.boxplot(boxes, positions=positions, widths=0.4, patch_artist=True)\n",
    "\n",
    "for flier in bp['fliers']:\n",
    "    flier.set(marker='', color='black')\n",
    "for whisker in bp['whiskers']:\n",
    "    whisker.set(color='black', linewidth=2)\n",
    "for cap in bp['caps']:\n",
    "    cap.set(color='black', linewidth=2)\n",
    "for median in bp['medians']:\n",
    "    median.set(color='black', linewidth=2)\n",
    "\n",
    "for i in np.arange(len(boxes)):\n",
    "    bp['boxes'][i].set(color=colors[i], linewidth=2, alpha=0.9)\n",
    "    bp['boxes'][i].set(facecolor=lighten_color(colors[i]))\n",
    "    scatter = ax.scatter(x=np.random.normal(positions[i], 0.1, size=len(boxes[i])),\n",
    "                         y=boxes[i], c=colors[i], marker='.', edgecolors='', s=30, zorder=10)\n",
    "\n",
    "ax.set_ylim([0, 0.004])\n",
    "\n",
    "ax.set_xticklabels(xlabels, fontsize=12)\n",
    "ax.set_xlabel('Sample Sets', fontsize=12)\n",
    "ax.set_ylabel('KRAS MtAF', fontsize=12)\n",
    "\n",
    "ax.set_yticks([0.0, 0.001, 0.002, 0.003, 0.004])\n",
    "ax.set_yticklabels([0.0, 0.001, 0.002, 0.003, 0.004], fontsize=12)\n",
    "\n",
    "\n",
    "# plt.show()\n",
    "\n",
    "print('statistics:')\n",
    "print(\"Control median = {}\".format(np.median(controlMAF)))\n",
    "print(\"Pancreas Late median = {}\".format(np.median(lateMAF)))\n",
    "print(\"Pancreas Early median = {}\".format(np.median(earlyMAF)))\n",
    "print(' ')\n",
    "print('rank sum p-values:')\n",
    "s1, p1 = stats.mannwhitneyu(controlMAF, lateMAF, alternative='less')\n",
    "print(\"Control vs Pancreas Late rank sum = {}\".format(p1))\n",
    "s2, p2 = stats.mannwhitneyu(controlMAF, earlyMAF, alternative='less')\n",
    "print(\"Control vs Pancreas Early rank sum = {}\".format(p2))\n",
    "\n",
    "plt.savefig('MtAF-Figure6A.png', bbox_inches='tight', pad_inches=0.5, dpi=600)"
   ]
  },
  {
   "cell_type": "markdown",
   "metadata": {
    "heading_collapsed": true,
    "hidden": true
   },
   "source": [
    "## Plotting - Figure 6B"
   ]
  },
  {
   "cell_type": "code",
   "execution_count": 51,
   "metadata": {
    "ExecuteTime": {
     "end_time": "2020-04-30T19:02:34.042435Z",
     "start_time": "2020-04-30T19:02:32.125932Z"
    },
    "hidden": true
   },
   "outputs": [
    {
     "name": "stdout",
     "output_type": "stream",
     "text": [
      "AUC = 0.6735294117647059\n",
      "optimal cutoff = 0.0007066538526768047\n",
      "sensitivity = 0.5294117647058824\n",
      "specificity = 0.95\n"
     ]
    },
    {
     "data": {
      "image/png": "[encoded data removed]",
      "text/plain": [
       "<Figure size 432x288 with 1 Axes>"
      ]
     },
     "metadata": {
      "needs_background": "light"
     },
     "output_type": "display_data"
    }
   ],
   "source": [
    "latePancAndControlsMtAF = pd.DataFrame( [lateMAF, controlMAF]).T\n",
    "latePancreasROCMtAF = rocplot(latePancAndControlsMtAF)\n",
    "\n",
    "# latePancreasROCMtAF.plot().show()\n",
    "\n",
    "print('AUC = {}'.format(latePancreasROCMtAF.AUC))\n",
    "print('optimal cutoff = {}'.format(latePancreasROCMtAF.optimal_threshold))\n",
    "print('sensitivity = {}'.format(latePancreasROCMtAF.sensitivity))\n",
    "print('specificity = {}'.format(latePancreasROCMtAF.specificity))\n",
    "\n",
    "latePancreasROCMtAF.plot().savefig(\n",
    "    'Figure6B_latePancMtAF.ROC.png', bbox_inches='tight', pad_inches=0.5, dpi=600)"
   ]
  },
  {
   "cell_type": "markdown",
   "metadata": {
    "heading_collapsed": true
   },
   "source": [
    "# Supplemental Figure S2 - Age Distributions"
   ]
  },
  {
   "cell_type": "markdown",
   "metadata": {
    "heading_collapsed": true,
    "hidden": true
   },
   "source": [
    "## Load Data"
   ]
  },
  {
   "cell_type": "code",
   "execution_count": 52,
   "metadata": {
    "ExecuteTime": {
     "end_time": "2020-04-30T19:02:34.053758Z",
     "start_time": "2020-04-30T19:02:34.045146Z"
    },
    "hidden": true
   },
   "outputs": [],
   "source": [
    "plasmaSamplesTablePath = 'plasma/TableS2_plasmaSamples.csv'\n",
    "samples = pd.read_csv(plasmaSamplesTablePath)"
   ]
  },
  {
   "cell_type": "code",
   "execution_count": 53,
   "metadata": {
    "ExecuteTime": {
     "end_time": "2020-04-30T19:02:34.080886Z",
     "start_time": "2020-04-30T19:02:34.056480Z"
    },
    "hidden": true
   },
   "outputs": [],
   "source": [
    "agesControl = samples[samples['type'] == 'control']['age'].values.tolist()\n",
    "agesOv = samples[samples['type'] == 'ovarian']['age'].values.tolist()\n",
    "agesLiver = samples[samples['type'] == 'liver']['age'].values.tolist()\n",
    "agesPancreas = samples[samples['type'] == 'pancreas']['age'].values.tolist()\n",
    "agesColon = samples[samples['type'] == 'colon']['age'].values.tolist()"
   ]
  },
  {
   "cell_type": "markdown",
   "metadata": {
    "heading_collapsed": true,
    "hidden": true
   },
   "source": [
    "## Plotting"
   ]
  },
  {
   "cell_type": "code",
   "execution_count": 54,
   "metadata": {
    "ExecuteTime": {
     "end_time": "2020-04-30T19:02:35.421685Z",
     "start_time": "2020-04-30T19:02:34.084171Z"
    },
    "hidden": true
   },
   "outputs": [
    {
     "name": "stdout",
     "output_type": "stream",
     "text": [
      "Control median age = 71.5\n",
      "Ovarian median age = 59.0\n",
      "Pancreas median age = 60.0\n",
      "Liver median age = 61.5\n",
      "Colon median age = 64.0\n",
      "Control vs Ovarian rank sum = 0.0009795108625726403\n",
      "Control vs Pancreas rank sum = 0.0018215713053827594\n",
      "Control vs Liver rank sum = 0.20121963204655913\n",
      "Control vs Colon rank sum = 0.3941828248630501\n"
     ]
    },
    {
     "data": {
      "image/png": "[encoded data removed]",
      "text/plain": [
       "<Figure size 360x144 with 1 Axes>"
      ]
     },
     "metadata": {
      "needs_background": "light"
     },
     "output_type": "display_data"
    }
   ],
   "source": [
    "boxes = [agesControl, agesOv, agesPancreas, agesLiver, agesColon]\n",
    "positions = [1, 2, 3, 4, 5]\n",
    "xlabels = ['Controls\\nn=20', 'Ovarian\\nn=38', 'Pancreas\\nn=25', 'Liver\\nn=4', 'Colon\\nn=4']\n",
    "\n",
    "fig, ax = plt.subplots(figsize=(5, 2))\n",
    "bp = ax.boxplot(boxes, positions=positions, widths=0.5, patch_artist=True)\n",
    "\n",
    "for flier in bp['fliers']:\n",
    "    flier.set(marker='', color='black')\n",
    "for whisker in bp['whiskers']:\n",
    "    whisker.set(color='black', linewidth=2)\n",
    "for cap in bp['caps']:\n",
    "    cap.set(color='black', linewidth=2)\n",
    "for median in bp['medians']:\n",
    "    median.set(color='black', linewidth=2)\n",
    "\n",
    "for i in np.arange(len(boxes)):\n",
    "    bp['boxes'][i].set(color=\"black\", linewidth=2, alpha=0.9)\n",
    "    bp['boxes'][i].set(facecolor=lighten_color(\"black\"))\n",
    "    scatter = ax.scatter(x=np.random.normal(positions[i], 0.1, size=len(boxes[i])),\n",
    "                         y=boxes[i], c=\"black\", marker='.', edgecolors='', s=50, zorder=10)\n",
    "\n",
    "#         ax.set_xlim([0, max(self.positions)+1])\n",
    "#         ax.set_ylim([0, self.maxVal * 1.1])\n",
    "#         ax.set_ylabel(self.ytitle, fontsize=18)\n",
    "#         plt.yticks(np.linspace(0, self.maxVal*1.05, 5), ['0.0']+['%.1e' % i for i in np.linspace(0, self.maxVal*1.05, 5)[1:]],\n",
    "#                    fontsize=12)\n",
    "#         plt.yscale('symlog')\n",
    "#         ax.set_xlabel(self.xtitle, fontsize=24)\n",
    "#         ax.set_xticklabels(self.labels, fontsize=12, rotation=45)\n",
    "#         plt.title(self.title, fontsize=18)\n",
    "\n",
    "ax.set_xticklabels(xlabels, fontsize=12)\n",
    "ax.set_xlabel('Sample Sets', fontsize=12)\n",
    "ax.set_ylabel('Age')\n",
    "\n",
    "\n",
    "# plt.show()\n",
    "\n",
    "print(\"Control median age = {}\".format(np.median(agesControl)))\n",
    "print(\"Ovarian median age = {}\".format(np.median(agesOv)))\n",
    "print(\"Pancreas median age = {}\".format(np.median(agesPancreas)))\n",
    "print(\"Liver median age = {}\".format(np.median(agesLiver)))\n",
    "print(\"Colon median age = {}\".format(np.median(agesColon)))\n",
    "\n",
    "print(\"Control vs Ovarian rank sum = {}\".format(ranksum(agesControl, agesOv)))\n",
    "print(\"Control vs Pancreas rank sum = {}\".format(ranksum(agesControl, agesPancreas)))\n",
    "print(\"Control vs Liver rank sum = {}\".format(ranksum(agesControl, agesLiver)))\n",
    "print(\"Control vs Colon rank sum = {}\".format(ranksum(agesControl, agesColon)))\n",
    "\n",
    "plt.savefig('FigS2_SampleCohortsAges.png', bbox_inches='tight', pad_inches=0.5, dpi=600)"
   ]
  },
  {
   "cell_type": "markdown",
   "metadata": {
    "heading_collapsed": true
   },
   "source": [
    "# Supplemental Figure S3 - Colon and Liver methylated ZNF154 classification"
   ]
  },
  {
   "cell_type": "markdown",
   "metadata": {
    "heading_collapsed": true,
    "hidden": true
   },
   "source": [
    "## Load Data"
   ]
  },
  {
   "cell_type": "code",
   "execution_count": 55,
   "metadata": {
    "ExecuteTime": {
     "end_time": "2020-04-30T19:02:35.436823Z",
     "start_time": "2020-04-30T19:02:35.424533Z"
    },
    "hidden": true
   },
   "outputs": [],
   "source": [
    "liverCountsMD0raw = pd.read_csv(\n",
    "    \"plasma/liverNormalizedMethylatedZNFCounts.csv\")\n",
    "liverReadCountsMD0 = liverCountsMD0raw['cases'].dropna().values.tolist()\n",
    "\n",
    "colonCountsMD0raw = pd.read_csv(\n",
    "    \"plasma/colonNormalizedMethylatedZNFCounts.csv\")\n",
    "colonReadCountsMD0 = colonCountsMD0raw['cases'].dropna().values.tolist()"
   ]
  },
  {
   "cell_type": "markdown",
   "metadata": {
    "heading_collapsed": true,
    "hidden": true
   },
   "source": [
    "## Plotting"
   ]
  },
  {
   "cell_type": "code",
   "execution_count": 56,
   "metadata": {
    "ExecuteTime": {
     "end_time": "2020-04-30T19:02:36.759360Z",
     "start_time": "2020-04-30T19:02:35.439297Z"
    },
    "hidden": true
   },
   "outputs": [
    {
     "name": "stdout",
     "output_type": "stream",
     "text": [
      "Stats:\n",
      " \n",
      "Colon median = 64.48980581387261\n",
      "Liver median = 14.560182484253637\n",
      " \n",
      "Rank sum p-values:\n",
      " \n",
      "Control vs Colon rank sum = 0.12133525035848211\n",
      "Control vs Liver rank sum = 0.8768849114533788\n"
     ]
    },
    {
     "data": {
      "image/png": "[encoded data removed]",
      "text/plain": [
       "<Figure size 216x144 with 1 Axes>"
      ]
     },
     "metadata": {
      "needs_background": "light"
     },
     "output_type": "display_data"
    }
   ],
   "source": [
    "boxes = [colonReadCountsMD0, liverReadCountsMD0, controlsReadCountsMD0]\n",
    "positions = [1, 2, 3]\n",
    "colors = ['red', 'red', 'blue']\n",
    "xlabels = ['Colon\\nn={}'.format(len(colonReadCountsMD0)),\n",
    "           'Liver\\nn={}'.format(len(liverReadCountsMD0)),\n",
    "           'Controls\\nn={}'.format(len(controlsReadCountsMD0))]\n",
    "\n",
    "fig, ax = plt.subplots(figsize=(3, 2))\n",
    "bp = ax.boxplot(boxes, positions=positions, widths=0.4, patch_artist=True)\n",
    "\n",
    "for flier in bp['fliers']:\n",
    "    flier.set(marker='', color='black')\n",
    "for whisker in bp['whiskers']:\n",
    "    whisker.set(color='black', linewidth=2)\n",
    "for cap in bp['caps']:\n",
    "    cap.set(color='black', linewidth=2)\n",
    "for median in bp['medians']:\n",
    "    median.set(color='black', linewidth=2)\n",
    "\n",
    "for i in np.arange(len(boxes)):\n",
    "    bp['boxes'][i].set(color=colors[i], linewidth=2, alpha=0.9)\n",
    "    bp['boxes'][i].set(facecolor=lighten_color(colors[i]))\n",
    "    scatter = ax.scatter(x=np.random.normal(positions[i], 0.1, size=len(boxes[i])),\n",
    "                         y=boxes[i], c=colors[i], marker='.', edgecolors='', s=30, zorder=10)\n",
    "\n",
    "ax.set_ylim([0, 1000])\n",
    "plt.yscale('symlog')\n",
    "\n",
    "ax.set_xticklabels(xlabels, fontsize=12)\n",
    "ax.set_xlabel('Sample Sets', fontsize=12)\n",
    "ax.set_ylabel('Normalized\\nfragments/mL', fontsize=12)\n",
    "plt.yticks(fontsize=12)\n",
    "\n",
    "\n",
    "# plt.show()\n",
    "\n",
    "print('Stats:')\n",
    "# print(\"Control median = {}\".format(np.median(controlsReadCountsMD0)))\n",
    "# print(\"Pancreas Late median = {}\".format(np.median(pancreasLateReadCountsMD0)))\n",
    "# print(\"Pancreas Early median = {}\".format(np.median(pancreasEarlyReadCountsMD0)))\n",
    "# print(\"Ovarian median = {}\".format(np.median(ovarianReadCountsMD0)))\n",
    "print(' ')\n",
    "print(\"Colon median = {}\".format(np.median(colonReadCountsMD0)))\n",
    "print(\"Liver median = {}\".format(np.median(liverReadCountsMD0)))\n",
    "\n",
    "print(' ')\n",
    "\n",
    "print('Rank sum p-values:')\n",
    "# print(\"Control vs Pancreas Late rank sum = {}\".format(ranksum(controlsReadCountsMD0, pancreasLateReadCountsMD0)))\n",
    "# print(\"Control vs Pancreas Early rank sum = {}\".format(ranksum(controlsReadCountsMD0, pancreasEarlyReadCountsMD0)))\n",
    "# print(\"Control vs Ovarian rank sum = {}\".format(ranksum(controlsReadCountsMD0, ovarianReadCountsMD0)))\n",
    "print(' ')\n",
    "print(\"Control vs Colon rank sum = {}\".format(ranksum(controlsReadCountsMD0, colonReadCountsMD0)))\n",
    "print(\"Control vs Liver rank sum = {}\".format(ranksum(controlsReadCountsMD0, liverReadCountsMD0)))\n",
    "\n",
    "plt.savefig('SuppFigS3_Colon_Liver.png', bbox_inches='tight', pad_inches=0.5, dpi=600)"
   ]
  },
  {
   "cell_type": "code",
   "execution_count": null,
   "metadata": {
    "hidden": true
   },
   "outputs": [],
   "source": []
  }
 ],
 "metadata": {
  "kernelspec": {
   "display_name": "Python 3",
   "language": "python",
   "name": "python3"
  },
  "language_info": {
   "codemirror_mode": {
    "name": "ipython",
    "version": 3
   },
   "file_extension": ".py",
   "mimetype": "text/x-python",
   "name": "python",
   "nbconvert_exporter": "python",
   "pygments_lexer": "ipython3",
   "version": "3.7.4"
  }
 },
 "nbformat": 4,
 "nbformat_minor": 2
}
